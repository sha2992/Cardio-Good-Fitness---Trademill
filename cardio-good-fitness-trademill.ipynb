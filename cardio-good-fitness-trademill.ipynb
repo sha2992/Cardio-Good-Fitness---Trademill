{
 "cells": [
  {
   "cell_type": "code",
   "execution_count": 1,
   "id": "d7dc5895",
   "metadata": {
    "_cell_guid": "b1076dfc-b9ad-4769-8c92-a6c4dae69d19",
    "_uuid": "8f2839f25d086af736a60e9eeb907d3b93b6e0e5",
    "execution": {
     "iopub.execute_input": "2023-11-28T05:16:15.808599Z",
     "iopub.status.busy": "2023-11-28T05:16:15.808035Z",
     "iopub.status.idle": "2023-11-28T05:16:16.297416Z",
     "shell.execute_reply": "2023-11-28T05:16:16.296039Z"
    },
    "papermill": {
     "duration": 0.498206,
     "end_time": "2023-11-28T05:16:16.300630",
     "exception": false,
     "start_time": "2023-11-28T05:16:15.802424",
     "status": "completed"
    },
    "tags": []
   },
   "outputs": [
    {
     "name": "stdout",
     "output_type": "stream",
     "text": [
      "/kaggle/input/cardio-good-fitness/CardioGoodFitness.csv\n"
     ]
    }
   ],
   "source": [
    "##This Python 3 environment comes with many helpful analytics libraries installed\n",
    "##It is defined by the kaggle/python Docker image: https://github.com/kaggle/docker-python\n",
    "##For example, here's several helpful packages to load\n",
    "\n",
    "import numpy as np # linear algebra\n",
    "import pandas as pd # data processing, CSV file I/O (e.g. pd.read_csv)\n",
    "\n",
    "#Input data files are available in the read-only \"../input/\" directory\n",
    "#For example, running this (by clicking run or pressing Shift+Enter) will list all files under the input directory\n",
    "\n",
    "import os\n",
    "for dirname, _, filenames in os.walk('/kaggle/input'):\n",
    "    for filename in filenames:\n",
    "        print(os.path.join(dirname, filename))\n",
    "\n",
    "#You can write up to 20GB to the current directory (/kaggle/working/) that gets preserved as output when you create a version using \"Save & Run All\" \n",
    "#You can also write temporary files to /kaggle/temp/, but they won't be saved outside of the current session"
   ]
  },
  {
   "cell_type": "code",
   "execution_count": 2,
   "id": "e8197565",
   "metadata": {
    "execution": {
     "iopub.execute_input": "2023-11-28T05:16:16.312423Z",
     "iopub.status.busy": "2023-11-28T05:16:16.310511Z",
     "iopub.status.idle": "2023-11-28T05:16:16.357774Z",
     "shell.execute_reply": "2023-11-28T05:16:16.356804Z"
    },
    "papermill": {
     "duration": 0.054363,
     "end_time": "2023-11-28T05:16:16.360645",
     "exception": false,
     "start_time": "2023-11-28T05:16:16.306282",
     "status": "completed"
    },
    "tags": []
   },
   "outputs": [
    {
     "data": {
      "text/html": [
       "<div>\n",
       "<style scoped>\n",
       "    .dataframe tbody tr th:only-of-type {\n",
       "        vertical-align: middle;\n",
       "    }\n",
       "\n",
       "    .dataframe tbody tr th {\n",
       "        vertical-align: top;\n",
       "    }\n",
       "\n",
       "    .dataframe thead th {\n",
       "        text-align: right;\n",
       "    }\n",
       "</style>\n",
       "<table border=\"1\" class=\"dataframe\">\n",
       "  <thead>\n",
       "    <tr style=\"text-align: right;\">\n",
       "      <th></th>\n",
       "      <th>Product</th>\n",
       "      <th>Age</th>\n",
       "      <th>Gender</th>\n",
       "      <th>Education</th>\n",
       "      <th>MaritalStatus</th>\n",
       "      <th>Usage</th>\n",
       "      <th>Fitness</th>\n",
       "      <th>Income</th>\n",
       "      <th>Miles</th>\n",
       "    </tr>\n",
       "  </thead>\n",
       "  <tbody>\n",
       "    <tr>\n",
       "      <th>0</th>\n",
       "      <td>TM195</td>\n",
       "      <td>18</td>\n",
       "      <td>Male</td>\n",
       "      <td>14</td>\n",
       "      <td>Single</td>\n",
       "      <td>3</td>\n",
       "      <td>4</td>\n",
       "      <td>29562</td>\n",
       "      <td>112</td>\n",
       "    </tr>\n",
       "    <tr>\n",
       "      <th>1</th>\n",
       "      <td>TM195</td>\n",
       "      <td>19</td>\n",
       "      <td>Male</td>\n",
       "      <td>15</td>\n",
       "      <td>Single</td>\n",
       "      <td>2</td>\n",
       "      <td>3</td>\n",
       "      <td>31836</td>\n",
       "      <td>75</td>\n",
       "    </tr>\n",
       "    <tr>\n",
       "      <th>2</th>\n",
       "      <td>TM195</td>\n",
       "      <td>19</td>\n",
       "      <td>Female</td>\n",
       "      <td>14</td>\n",
       "      <td>Partnered</td>\n",
       "      <td>4</td>\n",
       "      <td>3</td>\n",
       "      <td>30699</td>\n",
       "      <td>66</td>\n",
       "    </tr>\n",
       "    <tr>\n",
       "      <th>3</th>\n",
       "      <td>TM195</td>\n",
       "      <td>19</td>\n",
       "      <td>Male</td>\n",
       "      <td>12</td>\n",
       "      <td>Single</td>\n",
       "      <td>3</td>\n",
       "      <td>3</td>\n",
       "      <td>32973</td>\n",
       "      <td>85</td>\n",
       "    </tr>\n",
       "    <tr>\n",
       "      <th>4</th>\n",
       "      <td>TM195</td>\n",
       "      <td>20</td>\n",
       "      <td>Male</td>\n",
       "      <td>13</td>\n",
       "      <td>Partnered</td>\n",
       "      <td>4</td>\n",
       "      <td>2</td>\n",
       "      <td>35247</td>\n",
       "      <td>47</td>\n",
       "    </tr>\n",
       "  </tbody>\n",
       "</table>\n",
       "</div>"
      ],
      "text/plain": [
       "  Product  Age  Gender  Education MaritalStatus  Usage  Fitness  Income  Miles\n",
       "0   TM195   18    Male         14        Single      3        4   29562    112\n",
       "1   TM195   19    Male         15        Single      2        3   31836     75\n",
       "2   TM195   19  Female         14     Partnered      4        3   30699     66\n",
       "3   TM195   19    Male         12        Single      3        3   32973     85\n",
       "4   TM195   20    Male         13     Partnered      4        2   35247     47"
      ]
     },
     "execution_count": 2,
     "metadata": {},
     "output_type": "execute_result"
    }
   ],
   "source": [
    "df = pd.read_csv('/kaggle/input/cardio-good-fitness/CardioGoodFitness.csv')\n",
    "df.head()"
   ]
  },
  {
   "cell_type": "code",
   "execution_count": 3,
   "id": "dc08ee46",
   "metadata": {
    "execution": {
     "iopub.execute_input": "2023-11-28T05:16:16.369109Z",
     "iopub.status.busy": "2023-11-28T05:16:16.367863Z",
     "iopub.status.idle": "2023-11-28T05:16:16.376626Z",
     "shell.execute_reply": "2023-11-28T05:16:16.375176Z"
    },
    "papermill": {
     "duration": 0.017331,
     "end_time": "2023-11-28T05:16:16.380812",
     "exception": false,
     "start_time": "2023-11-28T05:16:16.363481",
     "status": "completed"
    },
    "tags": []
   },
   "outputs": [
    {
     "data": {
      "text/plain": [
       "(180, 9)"
      ]
     },
     "execution_count": 3,
     "metadata": {},
     "output_type": "execute_result"
    }
   ],
   "source": [
    "df.shape"
   ]
  },
  {
   "cell_type": "code",
   "execution_count": 4,
   "id": "cdd4f113",
   "metadata": {
    "execution": {
     "iopub.execute_input": "2023-11-28T05:16:16.388496Z",
     "iopub.status.busy": "2023-11-28T05:16:16.388029Z",
     "iopub.status.idle": "2023-11-28T05:16:16.393339Z",
     "shell.execute_reply": "2023-11-28T05:16:16.392104Z"
    },
    "papermill": {
     "duration": 0.011991,
     "end_time": "2023-11-28T05:16:16.395695",
     "exception": false,
     "start_time": "2023-11-28T05:16:16.383704",
     "status": "completed"
    },
    "tags": []
   },
   "outputs": [],
   "source": [
    "rows = df.shape[0]\n",
    "columns = df.shape[1]\n",
    "#rows"
   ]
  }
 ],
 "metadata": {
  "kaggle": {
   "accelerator": "none",
   "dataSources": [
    {
     "datasetId": 2602526,
     "sourceId": 4444140,
     "sourceType": "datasetVersion"
    }
   ],
   "dockerImageVersionId": 30587,
   "isGpuEnabled": false,
   "isInternetEnabled": true,
   "language": "python",
   "sourceType": "notebook"
  },
  "kernelspec": {
   "display_name": "Python 3",
   "language": "python",
   "name": "python3"
  },
  "language_info": {
   "codemirror_mode": {
    "name": "ipython",
    "version": 3
   },
   "file_extension": ".py",
   "mimetype": "text/x-python",
   "name": "python",
   "nbconvert_exporter": "python",
   "pygments_lexer": "ipython3",
   "version": "3.10.12"
  },
  "papermill": {
   "default_parameters": {},
   "duration": 4.853476,
   "end_time": "2023-11-28T05:16:17.121173",
   "environment_variables": {},
   "exception": null,
   "input_path": "__notebook__.ipynb",
   "output_path": "__notebook__.ipynb",
   "parameters": {},
   "start_time": "2023-11-28T05:16:12.267697",
   "version": "2.4.0"
  }
 },
 "nbformat": 4,
 "nbformat_minor": 5
}
