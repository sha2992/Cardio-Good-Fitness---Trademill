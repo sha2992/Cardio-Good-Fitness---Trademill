{
 "cells": [
  {
   "cell_type": "code",
   "execution_count": 1,
   "id": "f3a2b410",
   "metadata": {
    "_cell_guid": "b1076dfc-b9ad-4769-8c92-a6c4dae69d19",
    "_uuid": "8f2839f25d086af736a60e9eeb907d3b93b6e0e5",
    "execution": {
     "iopub.execute_input": "2023-11-28T07:38:46.577887Z",
     "iopub.status.busy": "2023-11-28T07:38:46.576920Z",
     "iopub.status.idle": "2023-11-28T07:38:46.984355Z",
     "shell.execute_reply": "2023-11-28T07:38:46.982874Z"
    },
    "papermill": {
     "duration": 0.420688,
     "end_time": "2023-11-28T07:38:46.987272",
     "exception": false,
     "start_time": "2023-11-28T07:38:46.566584",
     "status": "completed"
    },
    "tags": []
   },
   "outputs": [
    {
     "name": "stdout",
     "output_type": "stream",
     "text": [
      "/kaggle/input/cardio-good-fitness/CardioGoodFitness.csv\n"
     ]
    }
   ],
   "source": [
    "##This Python 3 environment comes with many helpful analytics libraries installed\n",
    "##It is defined by the kaggle/python Docker image: https://github.com/kaggle/docker-python\n",
    "##For example, here's several helpful packages to load\n",
    "\n",
    "import numpy as np # linear algebra\n",
    "import pandas as pd # data processing, CSV file I/O (e.g. pd.read_csv)\n",
    "\n",
    "#Input data files are available in the read-only \"../input/\" directory\n",
    "#For example, running this (by clicking run or pressing Shift+Enter) will list all files under the input directory\n",
    "\n",
    "import os\n",
    "for dirname, _, filenames in os.walk('/kaggle/input'):\n",
    "    for filename in filenames:\n",
    "        print(os.path.join(dirname, filename))\n",
    "\n",
    "#You can write up to 20GB to the current directory (/kaggle/working/) that gets preserved as output when you create a version using \"Save & Run All\" \n",
    "#You can also write temporary files to /kaggle/temp/, but they won't be saved outside of the current session"
   ]
  },
  {
   "cell_type": "code",
   "execution_count": 2,
   "id": "aa4e76fd",
   "metadata": {
    "execution": {
     "iopub.execute_input": "2023-11-28T07:38:47.004829Z",
     "iopub.status.busy": "2023-11-28T07:38:47.002913Z",
     "iopub.status.idle": "2023-11-28T07:38:47.046728Z",
     "shell.execute_reply": "2023-11-28T07:38:47.045785Z"
    },
    "papermill": {
     "duration": 0.054208,
     "end_time": "2023-11-28T07:38:47.049078",
     "exception": false,
     "start_time": "2023-11-28T07:38:46.994870",
     "status": "completed"
    },
    "tags": []
   },
   "outputs": [
    {
     "data": {
      "text/html": [
       "<div>\n",
       "<style scoped>\n",
       "    .dataframe tbody tr th:only-of-type {\n",
       "        vertical-align: middle;\n",
       "    }\n",
       "\n",
       "    .dataframe tbody tr th {\n",
       "        vertical-align: top;\n",
       "    }\n",
       "\n",
       "    .dataframe thead th {\n",
       "        text-align: right;\n",
       "    }\n",
       "</style>\n",
       "<table border=\"1\" class=\"dataframe\">\n",
       "  <thead>\n",
       "    <tr style=\"text-align: right;\">\n",
       "      <th></th>\n",
       "      <th>Product</th>\n",
       "      <th>Age</th>\n",
       "      <th>Gender</th>\n",
       "      <th>Education</th>\n",
       "      <th>MaritalStatus</th>\n",
       "      <th>Usage</th>\n",
       "      <th>Fitness</th>\n",
       "      <th>Income</th>\n",
       "      <th>Miles</th>\n",
       "    </tr>\n",
       "  </thead>\n",
       "  <tbody>\n",
       "    <tr>\n",
       "      <th>0</th>\n",
       "      <td>TM195</td>\n",
       "      <td>18</td>\n",
       "      <td>Male</td>\n",
       "      <td>14</td>\n",
       "      <td>Single</td>\n",
       "      <td>3</td>\n",
       "      <td>4</td>\n",
       "      <td>29562</td>\n",
       "      <td>112</td>\n",
       "    </tr>\n",
       "    <tr>\n",
       "      <th>1</th>\n",
       "      <td>TM195</td>\n",
       "      <td>19</td>\n",
       "      <td>Male</td>\n",
       "      <td>15</td>\n",
       "      <td>Single</td>\n",
       "      <td>2</td>\n",
       "      <td>3</td>\n",
       "      <td>31836</td>\n",
       "      <td>75</td>\n",
       "    </tr>\n",
       "    <tr>\n",
       "      <th>2</th>\n",
       "      <td>TM195</td>\n",
       "      <td>19</td>\n",
       "      <td>Female</td>\n",
       "      <td>14</td>\n",
       "      <td>Partnered</td>\n",
       "      <td>4</td>\n",
       "      <td>3</td>\n",
       "      <td>30699</td>\n",
       "      <td>66</td>\n",
       "    </tr>\n",
       "    <tr>\n",
       "      <th>3</th>\n",
       "      <td>TM195</td>\n",
       "      <td>19</td>\n",
       "      <td>Male</td>\n",
       "      <td>12</td>\n",
       "      <td>Single</td>\n",
       "      <td>3</td>\n",
       "      <td>3</td>\n",
       "      <td>32973</td>\n",
       "      <td>85</td>\n",
       "    </tr>\n",
       "    <tr>\n",
       "      <th>4</th>\n",
       "      <td>TM195</td>\n",
       "      <td>20</td>\n",
       "      <td>Male</td>\n",
       "      <td>13</td>\n",
       "      <td>Partnered</td>\n",
       "      <td>4</td>\n",
       "      <td>2</td>\n",
       "      <td>35247</td>\n",
       "      <td>47</td>\n",
       "    </tr>\n",
       "  </tbody>\n",
       "</table>\n",
       "</div>"
      ],
      "text/plain": [
       "  Product  Age  Gender  Education MaritalStatus  Usage  Fitness  Income  Miles\n",
       "0   TM195   18    Male         14        Single      3        4   29562    112\n",
       "1   TM195   19    Male         15        Single      2        3   31836     75\n",
       "2   TM195   19  Female         14     Partnered      4        3   30699     66\n",
       "3   TM195   19    Male         12        Single      3        3   32973     85\n",
       "4   TM195   20    Male         13     Partnered      4        2   35247     47"
      ]
     },
     "execution_count": 2,
     "metadata": {},
     "output_type": "execute_result"
    }
   ],
   "source": [
    "df = pd.read_csv('/kaggle/input/cardio-good-fitness/CardioGoodFitness.csv')\n",
    "df.head()"
   ]
  },
  {
   "cell_type": "code",
   "execution_count": 3,
   "id": "ee1adb8f",
   "metadata": {
    "execution": {
     "iopub.execute_input": "2023-11-28T07:38:47.063861Z",
     "iopub.status.busy": "2023-11-28T07:38:47.063501Z",
     "iopub.status.idle": "2023-11-28T07:38:47.069711Z",
     "shell.execute_reply": "2023-11-28T07:38:47.068686Z"
    },
    "papermill": {
     "duration": 0.01631,
     "end_time": "2023-11-28T07:38:47.072050",
     "exception": false,
     "start_time": "2023-11-28T07:38:47.055740",
     "status": "completed"
    },
    "tags": []
   },
   "outputs": [
    {
     "data": {
      "text/plain": [
       "(180, 9)"
      ]
     },
     "execution_count": 3,
     "metadata": {},
     "output_type": "execute_result"
    }
   ],
   "source": [
    "df.shape"
   ]
  },
  {
   "cell_type": "code",
   "execution_count": 4,
   "id": "1f6f1ad6",
   "metadata": {
    "execution": {
     "iopub.execute_input": "2023-11-28T07:38:47.087216Z",
     "iopub.status.busy": "2023-11-28T07:38:47.086871Z",
     "iopub.status.idle": "2023-11-28T07:38:47.091491Z",
     "shell.execute_reply": "2023-11-28T07:38:47.090463Z"
    },
    "papermill": {
     "duration": 0.014973,
     "end_time": "2023-11-28T07:38:47.093710",
     "exception": false,
     "start_time": "2023-11-28T07:38:47.078737",
     "status": "completed"
    },
    "tags": []
   },
   "outputs": [],
   "source": [
    "rows = df.shape[0]\n",
    "columns = df.shape[1]\n",
    "#rows"
   ]
  },
  {
   "cell_type": "code",
   "execution_count": 5,
   "id": "fec2a14d",
   "metadata": {
    "execution": {
     "iopub.execute_input": "2023-11-28T07:38:47.108761Z",
     "iopub.status.busy": "2023-11-28T07:38:47.108401Z",
     "iopub.status.idle": "2023-11-28T07:38:47.138686Z",
     "shell.execute_reply": "2023-11-28T07:38:47.137343Z"
    },
    "papermill": {
     "duration": 0.040517,
     "end_time": "2023-11-28T07:38:47.140953",
     "exception": false,
     "start_time": "2023-11-28T07:38:47.100436",
     "status": "completed"
    },
    "tags": []
   },
   "outputs": [
    {
     "name": "stdout",
     "output_type": "stream",
     "text": [
      "<class 'pandas.core.frame.DataFrame'>\n",
      "RangeIndex: 180 entries, 0 to 179\n",
      "Data columns (total 9 columns):\n",
      " #   Column         Non-Null Count  Dtype \n",
      "---  ------         --------------  ----- \n",
      " 0   Product        180 non-null    object\n",
      " 1   Age            180 non-null    int64 \n",
      " 2   Gender         180 non-null    object\n",
      " 3   Education      180 non-null    int64 \n",
      " 4   MaritalStatus  180 non-null    object\n",
      " 5   Usage          180 non-null    int64 \n",
      " 6   Fitness        180 non-null    int64 \n",
      " 7   Income         180 non-null    int64 \n",
      " 8   Miles          180 non-null    int64 \n",
      "dtypes: int64(6), object(3)\n",
      "memory usage: 12.8+ KB\n"
     ]
    }
   ],
   "source": [
    "df.info()"
   ]
  },
  {
   "cell_type": "code",
   "execution_count": 6,
   "id": "08392a6c",
   "metadata": {
    "execution": {
     "iopub.execute_input": "2023-11-28T07:38:47.156421Z",
     "iopub.status.busy": "2023-11-28T07:38:47.155617Z",
     "iopub.status.idle": "2023-11-28T07:38:47.162333Z",
     "shell.execute_reply": "2023-11-28T07:38:47.161420Z"
    },
    "papermill": {
     "duration": 0.016605,
     "end_time": "2023-11-28T07:38:47.164299",
     "exception": false,
     "start_time": "2023-11-28T07:38:47.147694",
     "status": "completed"
    },
    "tags": []
   },
   "outputs": [
    {
     "data": {
      "text/plain": [
       "Product          object\n",
       "Age               int64\n",
       "Gender           object\n",
       "Education         int64\n",
       "MaritalStatus    object\n",
       "Usage             int64\n",
       "Fitness           int64\n",
       "Income            int64\n",
       "Miles             int64\n",
       "dtype: object"
      ]
     },
     "execution_count": 6,
     "metadata": {},
     "output_type": "execute_result"
    }
   ],
   "source": [
    "df.dtypes"
   ]
  },
  {
   "cell_type": "code",
   "execution_count": 7,
   "id": "952ecc77",
   "metadata": {
    "execution": {
     "iopub.execute_input": "2023-11-28T07:38:47.179900Z",
     "iopub.status.busy": "2023-11-28T07:38:47.179342Z",
     "iopub.status.idle": "2023-11-28T07:38:47.186174Z",
     "shell.execute_reply": "2023-11-28T07:38:47.185385Z"
    },
    "papermill": {
     "duration": 0.017123,
     "end_time": "2023-11-28T07:38:47.188261",
     "exception": false,
     "start_time": "2023-11-28T07:38:47.171138",
     "status": "completed"
    },
    "tags": []
   },
   "outputs": [
    {
     "data": {
      "text/plain": [
       "Product          0\n",
       "Age              0\n",
       "Gender           0\n",
       "Education        0\n",
       "MaritalStatus    0\n",
       "Usage            0\n",
       "Fitness          0\n",
       "Income           0\n",
       "Miles            0\n",
       "dtype: int64"
      ]
     },
     "execution_count": 7,
     "metadata": {},
     "output_type": "execute_result"
    }
   ],
   "source": [
    "df.isnull().sum()"
   ]
  },
  {
   "cell_type": "code",
   "execution_count": 8,
   "id": "1b4f779d",
   "metadata": {
    "execution": {
     "iopub.execute_input": "2023-11-28T07:38:47.204063Z",
     "iopub.status.busy": "2023-11-28T07:38:47.203695Z",
     "iopub.status.idle": "2023-11-28T07:38:47.213620Z",
     "shell.execute_reply": "2023-11-28T07:38:47.212594Z"
    },
    "papermill": {
     "duration": 0.020616,
     "end_time": "2023-11-28T07:38:47.215837",
     "exception": false,
     "start_time": "2023-11-28T07:38:47.195221",
     "status": "completed"
    },
    "tags": []
   },
   "outputs": [
    {
     "data": {
      "text/plain": [
       "0"
      ]
     },
     "execution_count": 8,
     "metadata": {},
     "output_type": "execute_result"
    }
   ],
   "source": [
    "df.duplicated().sum()"
   ]
  },
  {
   "cell_type": "code",
   "execution_count": 9,
   "id": "72a12d4e",
   "metadata": {
    "execution": {
     "iopub.execute_input": "2023-11-28T07:38:47.231473Z",
     "iopub.status.busy": "2023-11-28T07:38:47.231056Z",
     "iopub.status.idle": "2023-11-28T07:38:47.260146Z",
     "shell.execute_reply": "2023-11-28T07:38:47.259180Z"
    },
    "papermill": {
     "duration": 0.03965,
     "end_time": "2023-11-28T07:38:47.262469",
     "exception": false,
     "start_time": "2023-11-28T07:38:47.222819",
     "status": "completed"
    },
    "tags": []
   },
   "outputs": [
    {
     "data": {
      "text/html": [
       "<div>\n",
       "<style scoped>\n",
       "    .dataframe tbody tr th:only-of-type {\n",
       "        vertical-align: middle;\n",
       "    }\n",
       "\n",
       "    .dataframe tbody tr th {\n",
       "        vertical-align: top;\n",
       "    }\n",
       "\n",
       "    .dataframe thead th {\n",
       "        text-align: right;\n",
       "    }\n",
       "</style>\n",
       "<table border=\"1\" class=\"dataframe\">\n",
       "  <thead>\n",
       "    <tr style=\"text-align: right;\">\n",
       "      <th></th>\n",
       "      <th>Age</th>\n",
       "      <th>Education</th>\n",
       "      <th>Usage</th>\n",
       "      <th>Fitness</th>\n",
       "      <th>Income</th>\n",
       "      <th>Miles</th>\n",
       "    </tr>\n",
       "  </thead>\n",
       "  <tbody>\n",
       "    <tr>\n",
       "      <th>count</th>\n",
       "      <td>180.000000</td>\n",
       "      <td>180.000000</td>\n",
       "      <td>180.000000</td>\n",
       "      <td>180.000000</td>\n",
       "      <td>180.000000</td>\n",
       "      <td>180.000000</td>\n",
       "    </tr>\n",
       "    <tr>\n",
       "      <th>mean</th>\n",
       "      <td>28.788889</td>\n",
       "      <td>15.572222</td>\n",
       "      <td>3.455556</td>\n",
       "      <td>3.311111</td>\n",
       "      <td>53719.577778</td>\n",
       "      <td>103.194444</td>\n",
       "    </tr>\n",
       "    <tr>\n",
       "      <th>std</th>\n",
       "      <td>6.943498</td>\n",
       "      <td>1.617055</td>\n",
       "      <td>1.084797</td>\n",
       "      <td>0.958869</td>\n",
       "      <td>16506.684226</td>\n",
       "      <td>51.863605</td>\n",
       "    </tr>\n",
       "    <tr>\n",
       "      <th>min</th>\n",
       "      <td>18.000000</td>\n",
       "      <td>12.000000</td>\n",
       "      <td>2.000000</td>\n",
       "      <td>1.000000</td>\n",
       "      <td>29562.000000</td>\n",
       "      <td>21.000000</td>\n",
       "    </tr>\n",
       "    <tr>\n",
       "      <th>25%</th>\n",
       "      <td>24.000000</td>\n",
       "      <td>14.000000</td>\n",
       "      <td>3.000000</td>\n",
       "      <td>3.000000</td>\n",
       "      <td>44058.750000</td>\n",
       "      <td>66.000000</td>\n",
       "    </tr>\n",
       "    <tr>\n",
       "      <th>50%</th>\n",
       "      <td>26.000000</td>\n",
       "      <td>16.000000</td>\n",
       "      <td>3.000000</td>\n",
       "      <td>3.000000</td>\n",
       "      <td>50596.500000</td>\n",
       "      <td>94.000000</td>\n",
       "    </tr>\n",
       "    <tr>\n",
       "      <th>75%</th>\n",
       "      <td>33.000000</td>\n",
       "      <td>16.000000</td>\n",
       "      <td>4.000000</td>\n",
       "      <td>4.000000</td>\n",
       "      <td>58668.000000</td>\n",
       "      <td>114.750000</td>\n",
       "    </tr>\n",
       "    <tr>\n",
       "      <th>max</th>\n",
       "      <td>50.000000</td>\n",
       "      <td>21.000000</td>\n",
       "      <td>7.000000</td>\n",
       "      <td>5.000000</td>\n",
       "      <td>104581.000000</td>\n",
       "      <td>360.000000</td>\n",
       "    </tr>\n",
       "  </tbody>\n",
       "</table>\n",
       "</div>"
      ],
      "text/plain": [
       "              Age   Education       Usage     Fitness         Income  \\\n",
       "count  180.000000  180.000000  180.000000  180.000000     180.000000   \n",
       "mean    28.788889   15.572222    3.455556    3.311111   53719.577778   \n",
       "std      6.943498    1.617055    1.084797    0.958869   16506.684226   \n",
       "min     18.000000   12.000000    2.000000    1.000000   29562.000000   \n",
       "25%     24.000000   14.000000    3.000000    3.000000   44058.750000   \n",
       "50%     26.000000   16.000000    3.000000    3.000000   50596.500000   \n",
       "75%     33.000000   16.000000    4.000000    4.000000   58668.000000   \n",
       "max     50.000000   21.000000    7.000000    5.000000  104581.000000   \n",
       "\n",
       "            Miles  \n",
       "count  180.000000  \n",
       "mean   103.194444  \n",
       "std     51.863605  \n",
       "min     21.000000  \n",
       "25%     66.000000  \n",
       "50%     94.000000  \n",
       "75%    114.750000  \n",
       "max    360.000000  "
      ]
     },
     "execution_count": 9,
     "metadata": {},
     "output_type": "execute_result"
    }
   ],
   "source": [
    "df.describe()"
   ]
  },
  {
   "cell_type": "code",
   "execution_count": 10,
   "id": "236cca3a",
   "metadata": {
    "execution": {
     "iopub.execute_input": "2023-11-28T07:38:47.278979Z",
     "iopub.status.busy": "2023-11-28T07:38:47.278352Z",
     "iopub.status.idle": "2023-11-28T07:38:47.286741Z",
     "shell.execute_reply": "2023-11-28T07:38:47.285804Z"
    },
    "papermill": {
     "duration": 0.018891,
     "end_time": "2023-11-28T07:38:47.288681",
     "exception": false,
     "start_time": "2023-11-28T07:38:47.269790",
     "status": "completed"
    },
    "tags": []
   },
   "outputs": [
    {
     "data": {
      "text/plain": [
       "Product           3\n",
       "Age              32\n",
       "Gender            2\n",
       "Education         8\n",
       "MaritalStatus     2\n",
       "Usage             6\n",
       "Fitness           5\n",
       "Income           62\n",
       "Miles            37\n",
       "dtype: int64"
      ]
     },
     "execution_count": 10,
     "metadata": {},
     "output_type": "execute_result"
    }
   ],
   "source": [
    "df.nunique()"
   ]
  },
  {
   "cell_type": "code",
   "execution_count": 11,
   "id": "56cf2642",
   "metadata": {
    "execution": {
     "iopub.execute_input": "2023-11-28T07:38:47.305685Z",
     "iopub.status.busy": "2023-11-28T07:38:47.305016Z",
     "iopub.status.idle": "2023-11-28T07:38:47.312537Z",
     "shell.execute_reply": "2023-11-28T07:38:47.311524Z"
    },
    "papermill": {
     "duration": 0.01857,
     "end_time": "2023-11-28T07:38:47.314677",
     "exception": false,
     "start_time": "2023-11-28T07:38:47.296107",
     "status": "completed"
    },
    "tags": []
   },
   "outputs": [
    {
     "data": {
      "text/plain": [
       "Product\n",
       "TM195    80\n",
       "TM498    60\n",
       "TM798    40\n",
       "Name: count, dtype: int64"
      ]
     },
     "execution_count": 11,
     "metadata": {},
     "output_type": "execute_result"
    }
   ],
   "source": [
    "df.Product.value_counts()"
   ]
  },
  {
   "cell_type": "code",
   "execution_count": 12,
   "id": "4cde23f2",
   "metadata": {
    "execution": {
     "iopub.execute_input": "2023-11-28T07:38:47.331823Z",
     "iopub.status.busy": "2023-11-28T07:38:47.331065Z",
     "iopub.status.idle": "2023-11-28T07:38:47.335473Z",
     "shell.execute_reply": "2023-11-28T07:38:47.334669Z"
    },
    "papermill": {
     "duration": 0.015449,
     "end_time": "2023-11-28T07:38:47.337619",
     "exception": false,
     "start_time": "2023-11-28T07:38:47.322170",
     "status": "completed"
    },
    "tags": []
   },
   "outputs": [],
   "source": [
    "# to find the name of the value\n",
    "#df.Product.value_counts().index[0]"
   ]
  },
  {
   "cell_type": "code",
   "execution_count": 13,
   "id": "19cb40cb",
   "metadata": {
    "execution": {
     "iopub.execute_input": "2023-11-28T07:38:47.354722Z",
     "iopub.status.busy": "2023-11-28T07:38:47.353970Z",
     "iopub.status.idle": "2023-11-28T07:38:48.682510Z",
     "shell.execute_reply": "2023-11-28T07:38:48.681276Z"
    },
    "papermill": {
     "duration": 1.340617,
     "end_time": "2023-11-28T07:38:48.685750",
     "exception": false,
     "start_time": "2023-11-28T07:38:47.345133",
     "status": "completed"
    },
    "tags": []
   },
   "outputs": [],
   "source": [
    "%matplotlib inline \n",
    "import matplotlib.pyplot as plt\n",
    "import seaborn as sns"
   ]
  },
  {
   "cell_type": "code",
   "execution_count": 14,
   "id": "2b7d6734",
   "metadata": {
    "execution": {
     "iopub.execute_input": "2023-11-28T07:38:48.708679Z",
     "iopub.status.busy": "2023-11-28T07:38:48.708257Z",
     "iopub.status.idle": "2023-11-28T07:38:49.049029Z",
     "shell.execute_reply": "2023-11-28T07:38:49.047787Z"
    },
    "papermill": {
     "duration": 0.353602,
     "end_time": "2023-11-28T07:38:49.051614",
     "exception": false,
     "start_time": "2023-11-28T07:38:48.698012",
     "status": "completed"
    },
    "tags": []
   },
   "outputs": [
    {
     "data": {
      "text/plain": [
       "<Axes: xlabel='Product', ylabel='count'>"
      ]
     },
     "execution_count": 14,
     "metadata": {},
     "output_type": "execute_result"
    },
    {
     "data": {
      "image/png": "[encoded data removed]",
      "text/plain": [
       "<Figure size 640x480 with 1 Axes>"
      ]
     },
     "metadata": {},
     "output_type": "display_data"
    }
   ],
   "source": [
    "sns.countplot(data=df,x='Product')"
   ]
  },
  {
   "cell_type": "markdown",
   "id": "7c1db072",
   "metadata": {
    "papermill": {
     "duration": 0.007808,
     "end_time": "2023-11-28T07:38:49.067653",
     "exception": false,
     "start_time": "2023-11-28T07:38:49.059845",
     "status": "completed"
    },
    "tags": []
   },
   "source": [
    "***Maximum People uses TM195***"
   ]
  },
  {
   "cell_type": "code",
   "execution_count": 15,
   "id": "8adba5b6",
   "metadata": {
    "execution": {
     "iopub.execute_input": "2023-11-28T07:38:49.085174Z",
     "iopub.status.busy": "2023-11-28T07:38:49.084807Z",
     "iopub.status.idle": "2023-11-28T07:38:49.100098Z",
     "shell.execute_reply": "2023-11-28T07:38:49.098988Z"
    },
    "papermill": {
     "duration": 0.026751,
     "end_time": "2023-11-28T07:38:49.102353",
     "exception": false,
     "start_time": "2023-11-28T07:38:49.075602",
     "status": "completed"
    },
    "tags": []
   },
   "outputs": [
    {
     "data": {
      "text/html": [
       "<div>\n",
       "<style scoped>\n",
       "    .dataframe tbody tr th:only-of-type {\n",
       "        vertical-align: middle;\n",
       "    }\n",
       "\n",
       "    .dataframe tbody tr th {\n",
       "        vertical-align: top;\n",
       "    }\n",
       "\n",
       "    .dataframe thead th {\n",
       "        text-align: right;\n",
       "    }\n",
       "</style>\n",
       "<table border=\"1\" class=\"dataframe\">\n",
       "  <thead>\n",
       "    <tr style=\"text-align: right;\">\n",
       "      <th></th>\n",
       "      <th>Product</th>\n",
       "      <th>Age</th>\n",
       "      <th>Gender</th>\n",
       "      <th>Education</th>\n",
       "      <th>MaritalStatus</th>\n",
       "      <th>Usage</th>\n",
       "      <th>Fitness</th>\n",
       "      <th>Income</th>\n",
       "      <th>Miles</th>\n",
       "    </tr>\n",
       "  </thead>\n",
       "  <tbody>\n",
       "    <tr>\n",
       "      <th>0</th>\n",
       "      <td>TM195</td>\n",
       "      <td>18</td>\n",
       "      <td>Male</td>\n",
       "      <td>14</td>\n",
       "      <td>Single</td>\n",
       "      <td>3</td>\n",
       "      <td>4</td>\n",
       "      <td>29562</td>\n",
       "      <td>112</td>\n",
       "    </tr>\n",
       "    <tr>\n",
       "      <th>1</th>\n",
       "      <td>TM195</td>\n",
       "      <td>19</td>\n",
       "      <td>Male</td>\n",
       "      <td>15</td>\n",
       "      <td>Single</td>\n",
       "      <td>2</td>\n",
       "      <td>3</td>\n",
       "      <td>31836</td>\n",
       "      <td>75</td>\n",
       "    </tr>\n",
       "    <tr>\n",
       "      <th>2</th>\n",
       "      <td>TM195</td>\n",
       "      <td>19</td>\n",
       "      <td>Female</td>\n",
       "      <td>14</td>\n",
       "      <td>Partnered</td>\n",
       "      <td>4</td>\n",
       "      <td>3</td>\n",
       "      <td>30699</td>\n",
       "      <td>66</td>\n",
       "    </tr>\n",
       "    <tr>\n",
       "      <th>3</th>\n",
       "      <td>TM195</td>\n",
       "      <td>19</td>\n",
       "      <td>Male</td>\n",
       "      <td>12</td>\n",
       "      <td>Single</td>\n",
       "      <td>3</td>\n",
       "      <td>3</td>\n",
       "      <td>32973</td>\n",
       "      <td>85</td>\n",
       "    </tr>\n",
       "    <tr>\n",
       "      <th>4</th>\n",
       "      <td>TM195</td>\n",
       "      <td>20</td>\n",
       "      <td>Male</td>\n",
       "      <td>13</td>\n",
       "      <td>Partnered</td>\n",
       "      <td>4</td>\n",
       "      <td>2</td>\n",
       "      <td>35247</td>\n",
       "      <td>47</td>\n",
       "    </tr>\n",
       "  </tbody>\n",
       "</table>\n",
       "</div>"
      ],
      "text/plain": [
       "  Product  Age  Gender  Education MaritalStatus  Usage  Fitness  Income  Miles\n",
       "0   TM195   18    Male         14        Single      3        4   29562    112\n",
       "1   TM195   19    Male         15        Single      2        3   31836     75\n",
       "2   TM195   19  Female         14     Partnered      4        3   30699     66\n",
       "3   TM195   19    Male         12        Single      3        3   32973     85\n",
       "4   TM195   20    Male         13     Partnered      4        2   35247     47"
      ]
     },
     "execution_count": 15,
     "metadata": {},
     "output_type": "execute_result"
    }
   ],
   "source": [
    "# sub setting for the TM195 products\n",
    "df_195 = df[df['Product']=='TM195']\n",
    "df_195.head()"
   ]
  },
  {
   "cell_type": "code",
   "execution_count": 16,
   "id": "99db7d21",
   "metadata": {
    "execution": {
     "iopub.execute_input": "2023-11-28T07:38:49.120532Z",
     "iopub.status.busy": "2023-11-28T07:38:49.120143Z",
     "iopub.status.idle": "2023-11-28T07:38:49.127358Z",
     "shell.execute_reply": "2023-11-28T07:38:49.126506Z"
    },
    "papermill": {
     "duration": 0.018781,
     "end_time": "2023-11-28T07:38:49.129407",
     "exception": false,
     "start_time": "2023-11-28T07:38:49.110626",
     "status": "completed"
    },
    "tags": []
   },
   "outputs": [
    {
     "data": {
      "text/plain": [
       "Gender\n",
       "Male      40\n",
       "Female    40\n",
       "Name: count, dtype: int64"
      ]
     },
     "execution_count": 16,
     "metadata": {},
     "output_type": "execute_result"
    }
   ],
   "source": [
    "df_195.Gender.value_counts()"
   ]
  },
  {
   "cell_type": "markdown",
   "id": "2de8e27e",
   "metadata": {
    "papermill": {
     "duration": 0.008051,
     "end_time": "2023-11-28T07:38:49.145777",
     "exception": false,
     "start_time": "2023-11-28T07:38:49.137726",
     "status": "completed"
    },
    "tags": []
   },
   "source": [
    "***Gender wise the model (TM195) using ratio is same***"
   ]
  },
  {
   "cell_type": "code",
   "execution_count": 17,
   "id": "63febfd6",
   "metadata": {
    "execution": {
     "iopub.execute_input": "2023-11-28T07:38:49.164408Z",
     "iopub.status.busy": "2023-11-28T07:38:49.163981Z",
     "iopub.status.idle": "2023-11-28T07:38:49.172241Z",
     "shell.execute_reply": "2023-11-28T07:38:49.171380Z"
    },
    "papermill": {
     "duration": 0.020415,
     "end_time": "2023-11-28T07:38:49.174396",
     "exception": false,
     "start_time": "2023-11-28T07:38:49.153981",
     "status": "completed"
    },
    "tags": []
   },
   "outputs": [
    {
     "data": {
      "text/plain": [
       "Age\n",
       "23    8\n",
       "25    7\n",
       "26    7\n",
       "28    6\n",
       "24    5\n",
       "38    4\n",
       "21    4\n",
       "22    4\n",
       "29    3\n",
       "19    3\n",
       "27    3\n",
       "35    3\n",
       "34    2\n",
       "33    2\n",
       "32    2\n",
       "31    2\n",
       "30    2\n",
       "20    2\n",
       "41    1\n",
       "47    1\n",
       "46    1\n",
       "44    1\n",
       "43    1\n",
       "18    1\n",
       "40    1\n",
       "39    1\n",
       "37    1\n",
       "36    1\n",
       "50    1\n",
       "Name: count, dtype: int64"
      ]
     },
     "execution_count": 17,
     "metadata": {},
     "output_type": "execute_result"
    }
   ],
   "source": [
    "df_195['Age'].value_counts()"
   ]
  },
  {
   "cell_type": "markdown",
   "id": "6d8710d9",
   "metadata": {
    "papermill": {
     "duration": 0.008036,
     "end_time": "2023-11-28T07:38:49.190879",
     "exception": false,
     "start_time": "2023-11-28T07:38:49.182843",
     "status": "completed"
    },
    "tags": []
   },
   "source": [
    "*Age can be different for every person and so the number of the unique value will increase.*\n",
    "\n",
    "*Age values can be segmented within a group, rather than age, age group will be limited as it will work as range*"
   ]
  },
  {
   "cell_type": "code",
   "execution_count": 18,
   "id": "99c00116",
   "metadata": {
    "execution": {
     "iopub.execute_input": "2023-11-28T07:38:49.209459Z",
     "iopub.status.busy": "2023-11-28T07:38:49.209038Z",
     "iopub.status.idle": "2023-11-28T07:38:49.250365Z",
     "shell.execute_reply": "2023-11-28T07:38:49.249491Z"
    },
    "papermill": {
     "duration": 0.053582,
     "end_time": "2023-11-28T07:38:49.252858",
     "exception": false,
     "start_time": "2023-11-28T07:38:49.199276",
     "status": "completed"
    },
    "tags": []
   },
   "outputs": [],
   "source": [
    "#df['Age Group'] = \n",
    "\n",
    "for lab, row in df.iterrows():\n",
    "    if row['Age'] >= 18 and row['Age'] <30:\n",
    "        df.loc[lab,'Age Group'] = '18-29'\n",
    "    elif row['Age'] >= 30 and row['Age'] <40:\n",
    "        df.loc[lab, 'Age Group'] = '30-39'\n",
    "    elif row['Age'] >= 40 and row['Age'] <50:\n",
    "        df.loc[lab, 'Age Group'] = '40-49'\n",
    "    elif row['Age'] >= 50 and row['Age'] <=60:\n",
    "        df.loc[lab, 'Age Group'] = '50-60'\n",
    "    else:\n",
    "        df.loc[lab,'Age Group'] = 'Under or Over Aged'"
   ]
  },
  {
   "cell_type": "code",
   "execution_count": 19,
   "id": "8a87720b",
   "metadata": {
    "execution": {
     "iopub.execute_input": "2023-11-28T07:38:49.272001Z",
     "iopub.status.busy": "2023-11-28T07:38:49.271576Z",
     "iopub.status.idle": "2023-11-28T07:38:49.285461Z",
     "shell.execute_reply": "2023-11-28T07:38:49.284424Z"
    },
    "papermill": {
     "duration": 0.026001,
     "end_time": "2023-11-28T07:38:49.287578",
     "exception": false,
     "start_time": "2023-11-28T07:38:49.261577",
     "status": "completed"
    },
    "tags": []
   },
   "outputs": [
    {
     "data": {
      "text/html": [
       "<div>\n",
       "<style scoped>\n",
       "    .dataframe tbody tr th:only-of-type {\n",
       "        vertical-align: middle;\n",
       "    }\n",
       "\n",
       "    .dataframe tbody tr th {\n",
       "        vertical-align: top;\n",
       "    }\n",
       "\n",
       "    .dataframe thead th {\n",
       "        text-align: right;\n",
       "    }\n",
       "</style>\n",
       "<table border=\"1\" class=\"dataframe\">\n",
       "  <thead>\n",
       "    <tr style=\"text-align: right;\">\n",
       "      <th></th>\n",
       "      <th>Product</th>\n",
       "      <th>Age</th>\n",
       "      <th>Gender</th>\n",
       "      <th>Education</th>\n",
       "      <th>MaritalStatus</th>\n",
       "      <th>Usage</th>\n",
       "      <th>Fitness</th>\n",
       "      <th>Income</th>\n",
       "      <th>Miles</th>\n",
       "      <th>Age Group</th>\n",
       "    </tr>\n",
       "  </thead>\n",
       "  <tbody>\n",
       "    <tr>\n",
       "      <th>0</th>\n",
       "      <td>TM195</td>\n",
       "      <td>18</td>\n",
       "      <td>Male</td>\n",
       "      <td>14</td>\n",
       "      <td>Single</td>\n",
       "      <td>3</td>\n",
       "      <td>4</td>\n",
       "      <td>29562</td>\n",
       "      <td>112</td>\n",
       "      <td>18-29</td>\n",
       "    </tr>\n",
       "    <tr>\n",
       "      <th>1</th>\n",
       "      <td>TM195</td>\n",
       "      <td>19</td>\n",
       "      <td>Male</td>\n",
       "      <td>15</td>\n",
       "      <td>Single</td>\n",
       "      <td>2</td>\n",
       "      <td>3</td>\n",
       "      <td>31836</td>\n",
       "      <td>75</td>\n",
       "      <td>18-29</td>\n",
       "    </tr>\n",
       "    <tr>\n",
       "      <th>2</th>\n",
       "      <td>TM195</td>\n",
       "      <td>19</td>\n",
       "      <td>Female</td>\n",
       "      <td>14</td>\n",
       "      <td>Partnered</td>\n",
       "      <td>4</td>\n",
       "      <td>3</td>\n",
       "      <td>30699</td>\n",
       "      <td>66</td>\n",
       "      <td>18-29</td>\n",
       "    </tr>\n",
       "    <tr>\n",
       "      <th>3</th>\n",
       "      <td>TM195</td>\n",
       "      <td>19</td>\n",
       "      <td>Male</td>\n",
       "      <td>12</td>\n",
       "      <td>Single</td>\n",
       "      <td>3</td>\n",
       "      <td>3</td>\n",
       "      <td>32973</td>\n",
       "      <td>85</td>\n",
       "      <td>18-29</td>\n",
       "    </tr>\n",
       "    <tr>\n",
       "      <th>4</th>\n",
       "      <td>TM195</td>\n",
       "      <td>20</td>\n",
       "      <td>Male</td>\n",
       "      <td>13</td>\n",
       "      <td>Partnered</td>\n",
       "      <td>4</td>\n",
       "      <td>2</td>\n",
       "      <td>35247</td>\n",
       "      <td>47</td>\n",
       "      <td>18-29</td>\n",
       "    </tr>\n",
       "  </tbody>\n",
       "</table>\n",
       "</div>"
      ],
      "text/plain": [
       "  Product  Age  Gender  Education MaritalStatus  Usage  Fitness  Income  \\\n",
       "0   TM195   18    Male         14        Single      3        4   29562   \n",
       "1   TM195   19    Male         15        Single      2        3   31836   \n",
       "2   TM195   19  Female         14     Partnered      4        3   30699   \n",
       "3   TM195   19    Male         12        Single      3        3   32973   \n",
       "4   TM195   20    Male         13     Partnered      4        2   35247   \n",
       "\n",
       "   Miles Age Group  \n",
       "0    112     18-29  \n",
       "1     75     18-29  \n",
       "2     66     18-29  \n",
       "3     85     18-29  \n",
       "4     47     18-29  "
      ]
     },
     "execution_count": 19,
     "metadata": {},
     "output_type": "execute_result"
    }
   ],
   "source": [
    "df.head()"
   ]
  },
  {
   "cell_type": "code",
   "execution_count": 20,
   "id": "11b7fded",
   "metadata": {
    "execution": {
     "iopub.execute_input": "2023-11-28T07:38:49.307433Z",
     "iopub.status.busy": "2023-11-28T07:38:49.307008Z",
     "iopub.status.idle": "2023-11-28T07:38:49.321758Z",
     "shell.execute_reply": "2023-11-28T07:38:49.320852Z"
    },
    "papermill": {
     "duration": 0.027079,
     "end_time": "2023-11-28T07:38:49.323956",
     "exception": false,
     "start_time": "2023-11-28T07:38:49.296877",
     "status": "completed"
    },
    "tags": []
   },
   "outputs": [
    {
     "data": {
      "text/html": [
       "<div>\n",
       "<style scoped>\n",
       "    .dataframe tbody tr th:only-of-type {\n",
       "        vertical-align: middle;\n",
       "    }\n",
       "\n",
       "    .dataframe tbody tr th {\n",
       "        vertical-align: top;\n",
       "    }\n",
       "\n",
       "    .dataframe thead th {\n",
       "        text-align: right;\n",
       "    }\n",
       "</style>\n",
       "<table border=\"1\" class=\"dataframe\">\n",
       "  <thead>\n",
       "    <tr style=\"text-align: right;\">\n",
       "      <th></th>\n",
       "      <th>Product</th>\n",
       "      <th>Age</th>\n",
       "      <th>Gender</th>\n",
       "      <th>Education</th>\n",
       "      <th>MaritalStatus</th>\n",
       "      <th>Usage</th>\n",
       "      <th>Fitness</th>\n",
       "      <th>Income</th>\n",
       "      <th>Miles</th>\n",
       "      <th>Age Group</th>\n",
       "    </tr>\n",
       "  </thead>\n",
       "  <tbody>\n",
       "    <tr>\n",
       "      <th>0</th>\n",
       "      <td>TM195</td>\n",
       "      <td>18</td>\n",
       "      <td>Male</td>\n",
       "      <td>14</td>\n",
       "      <td>Single</td>\n",
       "      <td>3</td>\n",
       "      <td>4</td>\n",
       "      <td>29562</td>\n",
       "      <td>112</td>\n",
       "      <td>18-29</td>\n",
       "    </tr>\n",
       "    <tr>\n",
       "      <th>1</th>\n",
       "      <td>TM195</td>\n",
       "      <td>19</td>\n",
       "      <td>Male</td>\n",
       "      <td>15</td>\n",
       "      <td>Single</td>\n",
       "      <td>2</td>\n",
       "      <td>3</td>\n",
       "      <td>31836</td>\n",
       "      <td>75</td>\n",
       "      <td>18-29</td>\n",
       "    </tr>\n",
       "    <tr>\n",
       "      <th>2</th>\n",
       "      <td>TM195</td>\n",
       "      <td>19</td>\n",
       "      <td>Female</td>\n",
       "      <td>14</td>\n",
       "      <td>Partnered</td>\n",
       "      <td>4</td>\n",
       "      <td>3</td>\n",
       "      <td>30699</td>\n",
       "      <td>66</td>\n",
       "      <td>18-29</td>\n",
       "    </tr>\n",
       "    <tr>\n",
       "      <th>3</th>\n",
       "      <td>TM195</td>\n",
       "      <td>19</td>\n",
       "      <td>Male</td>\n",
       "      <td>12</td>\n",
       "      <td>Single</td>\n",
       "      <td>3</td>\n",
       "      <td>3</td>\n",
       "      <td>32973</td>\n",
       "      <td>85</td>\n",
       "      <td>18-29</td>\n",
       "    </tr>\n",
       "    <tr>\n",
       "      <th>4</th>\n",
       "      <td>TM195</td>\n",
       "      <td>20</td>\n",
       "      <td>Male</td>\n",
       "      <td>13</td>\n",
       "      <td>Partnered</td>\n",
       "      <td>4</td>\n",
       "      <td>2</td>\n",
       "      <td>35247</td>\n",
       "      <td>47</td>\n",
       "      <td>18-29</td>\n",
       "    </tr>\n",
       "  </tbody>\n",
       "</table>\n",
       "</div>"
      ],
      "text/plain": [
       "  Product  Age  Gender  Education MaritalStatus  Usage  Fitness  Income  \\\n",
       "0   TM195   18    Male         14        Single      3        4   29562   \n",
       "1   TM195   19    Male         15        Single      2        3   31836   \n",
       "2   TM195   19  Female         14     Partnered      4        3   30699   \n",
       "3   TM195   19    Male         12        Single      3        3   32973   \n",
       "4   TM195   20    Male         13     Partnered      4        2   35247   \n",
       "\n",
       "   Miles Age Group  \n",
       "0    112     18-29  \n",
       "1     75     18-29  \n",
       "2     66     18-29  \n",
       "3     85     18-29  \n",
       "4     47     18-29  "
      ]
     },
     "execution_count": 20,
     "metadata": {},
     "output_type": "execute_result"
    }
   ],
   "source": [
    "# sub setting for the TM195 products after adding Age Group\n",
    "df_195 = df[df['Product']=='TM195']\n",
    "df_195.head()"
   ]
  },
  {
   "cell_type": "code",
   "execution_count": 21,
   "id": "1a08c5e8",
   "metadata": {
    "execution": {
     "iopub.execute_input": "2023-11-28T07:38:49.343249Z",
     "iopub.status.busy": "2023-11-28T07:38:49.342844Z",
     "iopub.status.idle": "2023-11-28T07:38:49.351900Z",
     "shell.execute_reply": "2023-11-28T07:38:49.351040Z"
    },
    "papermill": {
     "duration": 0.021621,
     "end_time": "2023-11-28T07:38:49.354365",
     "exception": false,
     "start_time": "2023-11-28T07:38:49.332744",
     "status": "completed"
    },
    "tags": []
   },
   "outputs": [
    {
     "data": {
      "text/plain": [
       "Age Group\n",
       "18-29    113\n",
       "30-39     50\n",
       "40-49     16\n",
       "50-60      1\n",
       "Name: count, dtype: int64"
      ]
     },
     "execution_count": 21,
     "metadata": {},
     "output_type": "execute_result"
    }
   ],
   "source": [
    "df['Age Group'].value_counts()"
   ]
  },
  {
   "cell_type": "code",
   "execution_count": 22,
   "id": "0dfd7c08",
   "metadata": {
    "execution": {
     "iopub.execute_input": "2023-11-28T07:38:49.374948Z",
     "iopub.status.busy": "2023-11-28T07:38:49.373693Z",
     "iopub.status.idle": "2023-11-28T07:38:49.382948Z",
     "shell.execute_reply": "2023-11-28T07:38:49.381801Z"
    },
    "papermill": {
     "duration": 0.021906,
     "end_time": "2023-11-28T07:38:49.385153",
     "exception": false,
     "start_time": "2023-11-28T07:38:49.363247",
     "status": "completed"
    },
    "tags": []
   },
   "outputs": [
    {
     "data": {
      "text/plain": [
       "Age Group\n",
       "18-29    53\n",
       "30-39    20\n",
       "40-49     6\n",
       "50-60     1\n",
       "Name: count, dtype: int64"
      ]
     },
     "execution_count": 22,
     "metadata": {},
     "output_type": "execute_result"
    }
   ],
   "source": [
    "df_195['Age Group'].value_counts()"
   ]
  },
  {
   "cell_type": "code",
   "execution_count": 23,
   "id": "ac1faf83",
   "metadata": {
    "execution": {
     "iopub.execute_input": "2023-11-28T07:38:49.405845Z",
     "iopub.status.busy": "2023-11-28T07:38:49.405022Z",
     "iopub.status.idle": "2023-11-28T07:38:49.763224Z",
     "shell.execute_reply": "2023-11-28T07:38:49.762382Z"
    },
    "papermill": {
     "duration": 0.370986,
     "end_time": "2023-11-28T07:38:49.765684",
     "exception": false,
     "start_time": "2023-11-28T07:38:49.394698",
     "status": "completed"
    },
    "tags": []
   },
   "outputs": [
    {
     "data": {
      "text/plain": [
       "Text(0.5, 1.0, 'Age Wise Count of Users')"
      ]
     },
     "execution_count": 23,
     "metadata": {},
     "output_type": "execute_result"
    },
    {
     "data": {
      "image/png": "[encoded data removed]",
      "text/plain": [
       "<Figure size 500x500 with 1 Axes>"
      ]
     },
     "metadata": {},
     "output_type": "display_data"
    }
   ],
   "source": [
    "sns.catplot(data=df_195\n",
    "            ,x='Age Group'\n",
    "            ,kind='count')\n",
    "\n",
    "plt.title('Age Wise Count of Users')"
   ]
  },
  {
   "cell_type": "code",
   "execution_count": 24,
   "id": "9604f98c",
   "metadata": {
    "execution": {
     "iopub.execute_input": "2023-11-28T07:38:49.787381Z",
     "iopub.status.busy": "2023-11-28T07:38:49.786496Z",
     "iopub.status.idle": "2023-11-28T07:38:49.794209Z",
     "shell.execute_reply": "2023-11-28T07:38:49.793077Z"
    },
    "papermill": {
     "duration": 0.021302,
     "end_time": "2023-11-28T07:38:49.796745",
     "exception": false,
     "start_time": "2023-11-28T07:38:49.775443",
     "status": "completed"
    },
    "tags": []
   },
   "outputs": [
    {
     "data": {
      "text/plain": [
       "Education\n",
       "16    85\n",
       "14    55\n",
       "18    23\n",
       "15     5\n",
       "13     5\n",
       "12     3\n",
       "21     3\n",
       "20     1\n",
       "Name: count, dtype: int64"
      ]
     },
     "execution_count": 24,
     "metadata": {},
     "output_type": "execute_result"
    }
   ],
   "source": [
    "df.Education.value_counts()"
   ]
  }
 ],
 "metadata": {
  "kaggle": {
   "accelerator": "none",
   "dataSources": [
    {
     "datasetId": 2602526,
     "sourceId": 4444140,
     "sourceType": "datasetVersion"
    }
   ],
   "dockerImageVersionId": 30587,
   "isGpuEnabled": false,
   "isInternetEnabled": true,
   "language": "python",
   "sourceType": "notebook"
  },
  "kernelspec": {
   "display_name": "Python 3",
   "language": "python",
   "name": "python3"
  },
  "language_info": {
   "codemirror_mode": {
    "name": "ipython",
    "version": 3
   },
   "file_extension": ".py",
   "mimetype": "text/x-python",
   "name": "python",
   "nbconvert_exporter": "python",
   "pygments_lexer": "ipython3",
   "version": "3.10.12"
  },
  "papermill": {
   "default_parameters": {},
   "duration": 6.915428,
   "end_time": "2023-11-28T07:38:50.428747",
   "environment_variables": {},
   "exception": null,
   "input_path": "__notebook__.ipynb",
   "output_path": "__notebook__.ipynb",
   "parameters": {},
   "start_time": "2023-11-28T07:38:43.513319",
   "version": "2.4.0"
  }
 },
 "nbformat": 4,
 "nbformat_minor": 5
}
