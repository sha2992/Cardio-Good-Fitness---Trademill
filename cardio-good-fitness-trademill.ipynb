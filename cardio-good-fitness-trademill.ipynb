{
 "cells": [
  {
   "cell_type": "code",
   "execution_count": 1,
   "id": "2d9521bd",
   "metadata": {
    "_cell_guid": "b1076dfc-b9ad-4769-8c92-a6c4dae69d19",
    "_uuid": "8f2839f25d086af736a60e9eeb907d3b93b6e0e5",
    "execution": {
     "iopub.execute_input": "2023-11-29T09:30:59.191498Z",
     "iopub.status.busy": "2023-11-29T09:30:59.191056Z",
     "iopub.status.idle": "2023-11-29T09:30:59.642130Z",
     "shell.execute_reply": "2023-11-29T09:30:59.640504Z"
    },
    "papermill": {
     "duration": 0.466986,
     "end_time": "2023-11-29T09:30:59.645707",
     "exception": false,
     "start_time": "2023-11-29T09:30:59.178721",
     "status": "completed"
    },
    "tags": []
   },
   "outputs": [
    {
     "name": "stdout",
     "output_type": "stream",
     "text": [
      "/kaggle/input/cardio-good-fitness/CardioGoodFitness.csv\n"
     ]
    }
   ],
   "source": [
    "##This Python 3 environment comes with many helpful analytics libraries installed\n",
    "##It is defined by the kaggle/python Docker image: https://github.com/kaggle/docker-python\n",
    "##For example, here's several helpful packages to load\n",
    "\n",
    "import numpy as np # linear algebra\n",
    "import pandas as pd # data processing, CSV file I/O (e.g. pd.read_csv)\n",
    "\n",
    "#Input data files are available in the read-only \"../input/\" directory\n",
    "#For example, running this (by clicking run or pressing Shift+Enter) will list all files under the input directory\n",
    "\n",
    "import os\n",
    "for dirname, _, filenames in os.walk('/kaggle/input'):\n",
    "    for filename in filenames:\n",
    "        print(os.path.join(dirname, filename))\n",
    "\n",
    "#You can write up to 20GB to the current directory (/kaggle/working/) that gets preserved as output when you create a version using \"Save & Run All\" \n",
    "#You can also write temporary files to /kaggle/temp/, but they won't be saved outside of the current session"
   ]
  },
  {
   "cell_type": "code",
   "execution_count": 2,
   "id": "0b4bfa38",
   "metadata": {
    "execution": {
     "iopub.execute_input": "2023-11-29T09:30:59.668238Z",
     "iopub.status.busy": "2023-11-29T09:30:59.667731Z",
     "iopub.status.idle": "2023-11-29T09:30:59.720030Z",
     "shell.execute_reply": "2023-11-29T09:30:59.718789Z"
    },
    "papermill": {
     "duration": 0.06669,
     "end_time": "2023-11-29T09:30:59.722631",
     "exception": false,
     "start_time": "2023-11-29T09:30:59.655941",
     "status": "completed"
    },
    "tags": []
   },
   "outputs": [
    {
     "data": {
      "text/html": [
       "<div>\n",
       "<style scoped>\n",
       "    .dataframe tbody tr th:only-of-type {\n",
       "        vertical-align: middle;\n",
       "    }\n",
       "\n",
       "    .dataframe tbody tr th {\n",
       "        vertical-align: top;\n",
       "    }\n",
       "\n",
       "    .dataframe thead th {\n",
       "        text-align: right;\n",
       "    }\n",
       "</style>\n",
       "<table border=\"1\" class=\"dataframe\">\n",
       "  <thead>\n",
       "    <tr style=\"text-align: right;\">\n",
       "      <th></th>\n",
       "      <th>Product</th>\n",
       "      <th>Age</th>\n",
       "      <th>Gender</th>\n",
       "      <th>Education</th>\n",
       "      <th>MaritalStatus</th>\n",
       "      <th>Usage</th>\n",
       "      <th>Fitness</th>\n",
       "      <th>Income</th>\n",
       "      <th>Miles</th>\n",
       "    </tr>\n",
       "  </thead>\n",
       "  <tbody>\n",
       "    <tr>\n",
       "      <th>0</th>\n",
       "      <td>TM195</td>\n",
       "      <td>18</td>\n",
       "      <td>Male</td>\n",
       "      <td>14</td>\n",
       "      <td>Single</td>\n",
       "      <td>3</td>\n",
       "      <td>4</td>\n",
       "      <td>29562</td>\n",
       "      <td>112</td>\n",
       "    </tr>\n",
       "    <tr>\n",
       "      <th>1</th>\n",
       "      <td>TM195</td>\n",
       "      <td>19</td>\n",
       "      <td>Male</td>\n",
       "      <td>15</td>\n",
       "      <td>Single</td>\n",
       "      <td>2</td>\n",
       "      <td>3</td>\n",
       "      <td>31836</td>\n",
       "      <td>75</td>\n",
       "    </tr>\n",
       "    <tr>\n",
       "      <th>2</th>\n",
       "      <td>TM195</td>\n",
       "      <td>19</td>\n",
       "      <td>Female</td>\n",
       "      <td>14</td>\n",
       "      <td>Partnered</td>\n",
       "      <td>4</td>\n",
       "      <td>3</td>\n",
       "      <td>30699</td>\n",
       "      <td>66</td>\n",
       "    </tr>\n",
       "    <tr>\n",
       "      <th>3</th>\n",
       "      <td>TM195</td>\n",
       "      <td>19</td>\n",
       "      <td>Male</td>\n",
       "      <td>12</td>\n",
       "      <td>Single</td>\n",
       "      <td>3</td>\n",
       "      <td>3</td>\n",
       "      <td>32973</td>\n",
       "      <td>85</td>\n",
       "    </tr>\n",
       "    <tr>\n",
       "      <th>4</th>\n",
       "      <td>TM195</td>\n",
       "      <td>20</td>\n",
       "      <td>Male</td>\n",
       "      <td>13</td>\n",
       "      <td>Partnered</td>\n",
       "      <td>4</td>\n",
       "      <td>2</td>\n",
       "      <td>35247</td>\n",
       "      <td>47</td>\n",
       "    </tr>\n",
       "  </tbody>\n",
       "</table>\n",
       "</div>"
      ],
      "text/plain": [
       "  Product  Age  Gender  Education MaritalStatus  Usage  Fitness  Income  Miles\n",
       "0   TM195   18    Male         14        Single      3        4   29562    112\n",
       "1   TM195   19    Male         15        Single      2        3   31836     75\n",
       "2   TM195   19  Female         14     Partnered      4        3   30699     66\n",
       "3   TM195   19    Male         12        Single      3        3   32973     85\n",
       "4   TM195   20    Male         13     Partnered      4        2   35247     47"
      ]
     },
     "execution_count": 2,
     "metadata": {},
     "output_type": "execute_result"
    }
   ],
   "source": [
    "df = pd.read_csv('/kaggle/input/cardio-good-fitness/CardioGoodFitness.csv')\n",
    "df.head()"
   ]
  },
  {
   "cell_type": "code",
   "execution_count": 3,
   "id": "04c519d0",
   "metadata": {
    "execution": {
     "iopub.execute_input": "2023-11-29T09:30:59.746215Z",
     "iopub.status.busy": "2023-11-29T09:30:59.745773Z",
     "iopub.status.idle": "2023-11-29T09:30:59.752621Z",
     "shell.execute_reply": "2023-11-29T09:30:59.751551Z"
    },
    "papermill": {
     "duration": 0.02143,
     "end_time": "2023-11-29T09:30:59.754987",
     "exception": false,
     "start_time": "2023-11-29T09:30:59.733557",
     "status": "completed"
    },
    "tags": []
   },
   "outputs": [
    {
     "data": {
      "text/plain": [
       "(180, 9)"
      ]
     },
     "execution_count": 3,
     "metadata": {},
     "output_type": "execute_result"
    }
   ],
   "source": [
    "df.shape"
   ]
  },
  {
   "cell_type": "code",
   "execution_count": 4,
   "id": "2ee6fdd6",
   "metadata": {
    "execution": {
     "iopub.execute_input": "2023-11-29T09:30:59.777857Z",
     "iopub.status.busy": "2023-11-29T09:30:59.777206Z",
     "iopub.status.idle": "2023-11-29T09:30:59.782340Z",
     "shell.execute_reply": "2023-11-29T09:30:59.781452Z"
    },
    "papermill": {
     "duration": 0.019404,
     "end_time": "2023-11-29T09:30:59.784745",
     "exception": false,
     "start_time": "2023-11-29T09:30:59.765341",
     "status": "completed"
    },
    "tags": []
   },
   "outputs": [],
   "source": [
    "rows = df.shape[0]\n",
    "columns = df.shape[1]\n",
    "#rows"
   ]
  },
  {
   "cell_type": "code",
   "execution_count": 5,
   "id": "ad7bef9f",
   "metadata": {
    "execution": {
     "iopub.execute_input": "2023-11-29T09:30:59.807733Z",
     "iopub.status.busy": "2023-11-29T09:30:59.807061Z",
     "iopub.status.idle": "2023-11-29T09:30:59.838648Z",
     "shell.execute_reply": "2023-11-29T09:30:59.836970Z"
    },
    "papermill": {
     "duration": 0.046528,
     "end_time": "2023-11-29T09:30:59.841750",
     "exception": false,
     "start_time": "2023-11-29T09:30:59.795222",
     "status": "completed"
    },
    "tags": []
   },
   "outputs": [
    {
     "name": "stdout",
     "output_type": "stream",
     "text": [
      "<class 'pandas.core.frame.DataFrame'>\n",
      "RangeIndex: 180 entries, 0 to 179\n",
      "Data columns (total 9 columns):\n",
      " #   Column         Non-Null Count  Dtype \n",
      "---  ------         --------------  ----- \n",
      " 0   Product        180 non-null    object\n",
      " 1   Age            180 non-null    int64 \n",
      " 2   Gender         180 non-null    object\n",
      " 3   Education      180 non-null    int64 \n",
      " 4   MaritalStatus  180 non-null    object\n",
      " 5   Usage          180 non-null    int64 \n",
      " 6   Fitness        180 non-null    int64 \n",
      " 7   Income         180 non-null    int64 \n",
      " 8   Miles          180 non-null    int64 \n",
      "dtypes: int64(6), object(3)\n",
      "memory usage: 12.8+ KB\n"
     ]
    }
   ],
   "source": [
    "df.info()"
   ]
  },
  {
   "cell_type": "code",
   "execution_count": 6,
   "id": "bfb19826",
   "metadata": {
    "execution": {
     "iopub.execute_input": "2023-11-29T09:30:59.865633Z",
     "iopub.status.busy": "2023-11-29T09:30:59.865204Z",
     "iopub.status.idle": "2023-11-29T09:30:59.873342Z",
     "shell.execute_reply": "2023-11-29T09:30:59.872227Z"
    },
    "papermill": {
     "duration": 0.022825,
     "end_time": "2023-11-29T09:30:59.875793",
     "exception": false,
     "start_time": "2023-11-29T09:30:59.852968",
     "status": "completed"
    },
    "tags": []
   },
   "outputs": [
    {
     "data": {
      "text/plain": [
       "Product          object\n",
       "Age               int64\n",
       "Gender           object\n",
       "Education         int64\n",
       "MaritalStatus    object\n",
       "Usage             int64\n",
       "Fitness           int64\n",
       "Income            int64\n",
       "Miles             int64\n",
       "dtype: object"
      ]
     },
     "execution_count": 6,
     "metadata": {},
     "output_type": "execute_result"
    }
   ],
   "source": [
    "df.dtypes"
   ]
  },
  {
   "cell_type": "code",
   "execution_count": 7,
   "id": "39d98ecd",
   "metadata": {
    "execution": {
     "iopub.execute_input": "2023-11-29T09:30:59.902996Z",
     "iopub.status.busy": "2023-11-29T09:30:59.902128Z",
     "iopub.status.idle": "2023-11-29T09:30:59.911665Z",
     "shell.execute_reply": "2023-11-29T09:30:59.910588Z"
    },
    "papermill": {
     "duration": 0.027238,
     "end_time": "2023-11-29T09:30:59.914202",
     "exception": false,
     "start_time": "2023-11-29T09:30:59.886964",
     "status": "completed"
    },
    "tags": []
   },
   "outputs": [
    {
     "data": {
      "text/plain": [
       "Product          0\n",
       "Age              0\n",
       "Gender           0\n",
       "Education        0\n",
       "MaritalStatus    0\n",
       "Usage            0\n",
       "Fitness          0\n",
       "Income           0\n",
       "Miles            0\n",
       "dtype: int64"
      ]
     },
     "execution_count": 7,
     "metadata": {},
     "output_type": "execute_result"
    }
   ],
   "source": [
    "df.isnull().sum()"
   ]
  },
  {
   "cell_type": "code",
   "execution_count": 8,
   "id": "aa427e98",
   "metadata": {
    "execution": {
     "iopub.execute_input": "2023-11-29T09:30:59.938044Z",
     "iopub.status.busy": "2023-11-29T09:30:59.937656Z",
     "iopub.status.idle": "2023-11-29T09:30:59.949985Z",
     "shell.execute_reply": "2023-11-29T09:30:59.948770Z"
    },
    "papermill": {
     "duration": 0.027209,
     "end_time": "2023-11-29T09:30:59.952661",
     "exception": false,
     "start_time": "2023-11-29T09:30:59.925452",
     "status": "completed"
    },
    "tags": []
   },
   "outputs": [
    {
     "data": {
      "text/plain": [
       "0"
      ]
     },
     "execution_count": 8,
     "metadata": {},
     "output_type": "execute_result"
    }
   ],
   "source": [
    "df.duplicated().sum()"
   ]
  },
  {
   "cell_type": "code",
   "execution_count": 9,
   "id": "a3f73fe1",
   "metadata": {
    "execution": {
     "iopub.execute_input": "2023-11-29T09:30:59.978299Z",
     "iopub.status.busy": "2023-11-29T09:30:59.977835Z",
     "iopub.status.idle": "2023-11-29T09:31:00.011067Z",
     "shell.execute_reply": "2023-11-29T09:31:00.009773Z"
    },
    "papermill": {
     "duration": 0.04884,
     "end_time": "2023-11-29T09:31:00.014097",
     "exception": false,
     "start_time": "2023-11-29T09:30:59.965257",
     "status": "completed"
    },
    "tags": []
   },
   "outputs": [
    {
     "data": {
      "text/html": [
       "<div>\n",
       "<style scoped>\n",
       "    .dataframe tbody tr th:only-of-type {\n",
       "        vertical-align: middle;\n",
       "    }\n",
       "\n",
       "    .dataframe tbody tr th {\n",
       "        vertical-align: top;\n",
       "    }\n",
       "\n",
       "    .dataframe thead th {\n",
       "        text-align: right;\n",
       "    }\n",
       "</style>\n",
       "<table border=\"1\" class=\"dataframe\">\n",
       "  <thead>\n",
       "    <tr style=\"text-align: right;\">\n",
       "      <th></th>\n",
       "      <th>Age</th>\n",
       "      <th>Education</th>\n",
       "      <th>Usage</th>\n",
       "      <th>Fitness</th>\n",
       "      <th>Income</th>\n",
       "      <th>Miles</th>\n",
       "    </tr>\n",
       "  </thead>\n",
       "  <tbody>\n",
       "    <tr>\n",
       "      <th>count</th>\n",
       "      <td>180.000000</td>\n",
       "      <td>180.000000</td>\n",
       "      <td>180.000000</td>\n",
       "      <td>180.000000</td>\n",
       "      <td>180.000000</td>\n",
       "      <td>180.000000</td>\n",
       "    </tr>\n",
       "    <tr>\n",
       "      <th>mean</th>\n",
       "      <td>28.788889</td>\n",
       "      <td>15.572222</td>\n",
       "      <td>3.455556</td>\n",
       "      <td>3.311111</td>\n",
       "      <td>53719.577778</td>\n",
       "      <td>103.194444</td>\n",
       "    </tr>\n",
       "    <tr>\n",
       "      <th>std</th>\n",
       "      <td>6.943498</td>\n",
       "      <td>1.617055</td>\n",
       "      <td>1.084797</td>\n",
       "      <td>0.958869</td>\n",
       "      <td>16506.684226</td>\n",
       "      <td>51.863605</td>\n",
       "    </tr>\n",
       "    <tr>\n",
       "      <th>min</th>\n",
       "      <td>18.000000</td>\n",
       "      <td>12.000000</td>\n",
       "      <td>2.000000</td>\n",
       "      <td>1.000000</td>\n",
       "      <td>29562.000000</td>\n",
       "      <td>21.000000</td>\n",
       "    </tr>\n",
       "    <tr>\n",
       "      <th>25%</th>\n",
       "      <td>24.000000</td>\n",
       "      <td>14.000000</td>\n",
       "      <td>3.000000</td>\n",
       "      <td>3.000000</td>\n",
       "      <td>44058.750000</td>\n",
       "      <td>66.000000</td>\n",
       "    </tr>\n",
       "    <tr>\n",
       "      <th>50%</th>\n",
       "      <td>26.000000</td>\n",
       "      <td>16.000000</td>\n",
       "      <td>3.000000</td>\n",
       "      <td>3.000000</td>\n",
       "      <td>50596.500000</td>\n",
       "      <td>94.000000</td>\n",
       "    </tr>\n",
       "    <tr>\n",
       "      <th>75%</th>\n",
       "      <td>33.000000</td>\n",
       "      <td>16.000000</td>\n",
       "      <td>4.000000</td>\n",
       "      <td>4.000000</td>\n",
       "      <td>58668.000000</td>\n",
       "      <td>114.750000</td>\n",
       "    </tr>\n",
       "    <tr>\n",
       "      <th>max</th>\n",
       "      <td>50.000000</td>\n",
       "      <td>21.000000</td>\n",
       "      <td>7.000000</td>\n",
       "      <td>5.000000</td>\n",
       "      <td>104581.000000</td>\n",
       "      <td>360.000000</td>\n",
       "    </tr>\n",
       "  </tbody>\n",
       "</table>\n",
       "</div>"
      ],
      "text/plain": [
       "              Age   Education       Usage     Fitness         Income  \\\n",
       "count  180.000000  180.000000  180.000000  180.000000     180.000000   \n",
       "mean    28.788889   15.572222    3.455556    3.311111   53719.577778   \n",
       "std      6.943498    1.617055    1.084797    0.958869   16506.684226   \n",
       "min     18.000000   12.000000    2.000000    1.000000   29562.000000   \n",
       "25%     24.000000   14.000000    3.000000    3.000000   44058.750000   \n",
       "50%     26.000000   16.000000    3.000000    3.000000   50596.500000   \n",
       "75%     33.000000   16.000000    4.000000    4.000000   58668.000000   \n",
       "max     50.000000   21.000000    7.000000    5.000000  104581.000000   \n",
       "\n",
       "            Miles  \n",
       "count  180.000000  \n",
       "mean   103.194444  \n",
       "std     51.863605  \n",
       "min     21.000000  \n",
       "25%     66.000000  \n",
       "50%     94.000000  \n",
       "75%    114.750000  \n",
       "max    360.000000  "
      ]
     },
     "execution_count": 9,
     "metadata": {},
     "output_type": "execute_result"
    }
   ],
   "source": [
    "df.describe()"
   ]
  },
  {
   "cell_type": "code",
   "execution_count": 10,
   "id": "d05c2c55",
   "metadata": {
    "execution": {
     "iopub.execute_input": "2023-11-29T09:31:00.039515Z",
     "iopub.status.busy": "2023-11-29T09:31:00.039056Z",
     "iopub.status.idle": "2023-11-29T09:31:00.051258Z",
     "shell.execute_reply": "2023-11-29T09:31:00.050064Z"
    },
    "papermill": {
     "duration": 0.027852,
     "end_time": "2023-11-29T09:31:00.053929",
     "exception": false,
     "start_time": "2023-11-29T09:31:00.026077",
     "status": "completed"
    },
    "tags": []
   },
   "outputs": [
    {
     "data": {
      "text/plain": [
       "Product           3\n",
       "Age              32\n",
       "Gender            2\n",
       "Education         8\n",
       "MaritalStatus     2\n",
       "Usage             6\n",
       "Fitness           5\n",
       "Income           62\n",
       "Miles            37\n",
       "dtype: int64"
      ]
     },
     "execution_count": 10,
     "metadata": {},
     "output_type": "execute_result"
    }
   ],
   "source": [
    "df.nunique()"
   ]
  },
  {
   "cell_type": "code",
   "execution_count": 11,
   "id": "63fb265d",
   "metadata": {
    "execution": {
     "iopub.execute_input": "2023-11-29T09:31:00.080637Z",
     "iopub.status.busy": "2023-11-29T09:31:00.079841Z",
     "iopub.status.idle": "2023-11-29T09:31:00.088277Z",
     "shell.execute_reply": "2023-11-29T09:31:00.086968Z"
    },
    "papermill": {
     "duration": 0.024746,
     "end_time": "2023-11-29T09:31:00.090924",
     "exception": false,
     "start_time": "2023-11-29T09:31:00.066178",
     "status": "completed"
    },
    "tags": []
   },
   "outputs": [
    {
     "data": {
      "text/plain": [
       "Product\n",
       "TM195    80\n",
       "TM498    60\n",
       "TM798    40\n",
       "Name: count, dtype: int64"
      ]
     },
     "execution_count": 11,
     "metadata": {},
     "output_type": "execute_result"
    }
   ],
   "source": [
    "df.Product.value_counts()"
   ]
  },
  {
   "cell_type": "code",
   "execution_count": 12,
   "id": "32288479",
   "metadata": {
    "execution": {
     "iopub.execute_input": "2023-11-29T09:31:00.116807Z",
     "iopub.status.busy": "2023-11-29T09:31:00.116090Z",
     "iopub.status.idle": "2023-11-29T09:31:00.120221Z",
     "shell.execute_reply": "2023-11-29T09:31:00.119162Z"
    },
    "papermill": {
     "duration": 0.019803,
     "end_time": "2023-11-29T09:31:00.122425",
     "exception": false,
     "start_time": "2023-11-29T09:31:00.102622",
     "status": "completed"
    },
    "tags": []
   },
   "outputs": [],
   "source": [
    "# to find the name of the value\n",
    "#df.Product.value_counts().index[0]"
   ]
  },
  {
   "cell_type": "code",
   "execution_count": 13,
   "id": "dfeb71ef",
   "metadata": {
    "execution": {
     "iopub.execute_input": "2023-11-29T09:31:00.149262Z",
     "iopub.status.busy": "2023-11-29T09:31:00.148818Z",
     "iopub.status.idle": "2023-11-29T09:31:01.739159Z",
     "shell.execute_reply": "2023-11-29T09:31:01.738005Z"
    },
    "papermill": {
     "duration": 1.608085,
     "end_time": "2023-11-29T09:31:01.742268",
     "exception": false,
     "start_time": "2023-11-29T09:31:00.134183",
     "status": "completed"
    },
    "tags": []
   },
   "outputs": [],
   "source": [
    "%matplotlib inline \n",
    "import matplotlib.pyplot as plt\n",
    "import seaborn as sns"
   ]
  },
  {
   "cell_type": "code",
   "execution_count": 14,
   "id": "58a94de0",
   "metadata": {
    "execution": {
     "iopub.execute_input": "2023-11-29T09:31:01.769296Z",
     "iopub.status.busy": "2023-11-29T09:31:01.768857Z",
     "iopub.status.idle": "2023-11-29T09:31:02.164660Z",
     "shell.execute_reply": "2023-11-29T09:31:02.163306Z"
    },
    "papermill": {
     "duration": 0.412841,
     "end_time": "2023-11-29T09:31:02.167549",
     "exception": false,
     "start_time": "2023-11-29T09:31:01.754708",
     "status": "completed"
    },
    "tags": []
   },
   "outputs": [
    {
     "data": {
      "text/plain": [
       "<Axes: xlabel='Product', ylabel='count'>"
      ]
     },
     "execution_count": 14,
     "metadata": {},
     "output_type": "execute_result"
    },
    {
     "data": {
      "image/png": "[encoded data removed]",
      "text/plain": [
       "<Figure size 640x480 with 1 Axes>"
      ]
     },
     "metadata": {},
     "output_type": "display_data"
    }
   ],
   "source": [
    "sns.countplot(data=df,x='Product')"
   ]
  },
  {
   "cell_type": "markdown",
   "id": "c6d45ee1",
   "metadata": {
    "papermill": {
     "duration": 0.01251,
     "end_time": "2023-11-29T09:31:02.192749",
     "exception": false,
     "start_time": "2023-11-29T09:31:02.180239",
     "status": "completed"
    },
    "tags": []
   },
   "source": [
    "***Maximum People uses TM195***"
   ]
  },
  {
   "cell_type": "code",
   "execution_count": 15,
   "id": "9e632b5d",
   "metadata": {
    "execution": {
     "iopub.execute_input": "2023-11-29T09:31:02.220186Z",
     "iopub.status.busy": "2023-11-29T09:31:02.219764Z",
     "iopub.status.idle": "2023-11-29T09:31:02.235978Z",
     "shell.execute_reply": "2023-11-29T09:31:02.234775Z"
    },
    "papermill": {
     "duration": 0.033312,
     "end_time": "2023-11-29T09:31:02.238854",
     "exception": false,
     "start_time": "2023-11-29T09:31:02.205542",
     "status": "completed"
    },
    "tags": []
   },
   "outputs": [
    {
     "data": {
      "text/html": [
       "<div>\n",
       "<style scoped>\n",
       "    .dataframe tbody tr th:only-of-type {\n",
       "        vertical-align: middle;\n",
       "    }\n",
       "\n",
       "    .dataframe tbody tr th {\n",
       "        vertical-align: top;\n",
       "    }\n",
       "\n",
       "    .dataframe thead th {\n",
       "        text-align: right;\n",
       "    }\n",
       "</style>\n",
       "<table border=\"1\" class=\"dataframe\">\n",
       "  <thead>\n",
       "    <tr style=\"text-align: right;\">\n",
       "      <th></th>\n",
       "      <th>Product</th>\n",
       "      <th>Age</th>\n",
       "      <th>Gender</th>\n",
       "      <th>Education</th>\n",
       "      <th>MaritalStatus</th>\n",
       "      <th>Usage</th>\n",
       "      <th>Fitness</th>\n",
       "      <th>Income</th>\n",
       "      <th>Miles</th>\n",
       "    </tr>\n",
       "  </thead>\n",
       "  <tbody>\n",
       "    <tr>\n",
       "      <th>0</th>\n",
       "      <td>TM195</td>\n",
       "      <td>18</td>\n",
       "      <td>Male</td>\n",
       "      <td>14</td>\n",
       "      <td>Single</td>\n",
       "      <td>3</td>\n",
       "      <td>4</td>\n",
       "      <td>29562</td>\n",
       "      <td>112</td>\n",
       "    </tr>\n",
       "    <tr>\n",
       "      <th>1</th>\n",
       "      <td>TM195</td>\n",
       "      <td>19</td>\n",
       "      <td>Male</td>\n",
       "      <td>15</td>\n",
       "      <td>Single</td>\n",
       "      <td>2</td>\n",
       "      <td>3</td>\n",
       "      <td>31836</td>\n",
       "      <td>75</td>\n",
       "    </tr>\n",
       "    <tr>\n",
       "      <th>2</th>\n",
       "      <td>TM195</td>\n",
       "      <td>19</td>\n",
       "      <td>Female</td>\n",
       "      <td>14</td>\n",
       "      <td>Partnered</td>\n",
       "      <td>4</td>\n",
       "      <td>3</td>\n",
       "      <td>30699</td>\n",
       "      <td>66</td>\n",
       "    </tr>\n",
       "    <tr>\n",
       "      <th>3</th>\n",
       "      <td>TM195</td>\n",
       "      <td>19</td>\n",
       "      <td>Male</td>\n",
       "      <td>12</td>\n",
       "      <td>Single</td>\n",
       "      <td>3</td>\n",
       "      <td>3</td>\n",
       "      <td>32973</td>\n",
       "      <td>85</td>\n",
       "    </tr>\n",
       "    <tr>\n",
       "      <th>4</th>\n",
       "      <td>TM195</td>\n",
       "      <td>20</td>\n",
       "      <td>Male</td>\n",
       "      <td>13</td>\n",
       "      <td>Partnered</td>\n",
       "      <td>4</td>\n",
       "      <td>2</td>\n",
       "      <td>35247</td>\n",
       "      <td>47</td>\n",
       "    </tr>\n",
       "  </tbody>\n",
       "</table>\n",
       "</div>"
      ],
      "text/plain": [
       "  Product  Age  Gender  Education MaritalStatus  Usage  Fitness  Income  Miles\n",
       "0   TM195   18    Male         14        Single      3        4   29562    112\n",
       "1   TM195   19    Male         15        Single      2        3   31836     75\n",
       "2   TM195   19  Female         14     Partnered      4        3   30699     66\n",
       "3   TM195   19    Male         12        Single      3        3   32973     85\n",
       "4   TM195   20    Male         13     Partnered      4        2   35247     47"
      ]
     },
     "execution_count": 15,
     "metadata": {},
     "output_type": "execute_result"
    }
   ],
   "source": [
    "# sub setting for the TM195 products\n",
    "df_195 = df[df['Product']=='TM195']\n",
    "df_195.head()"
   ]
  },
  {
   "cell_type": "code",
   "execution_count": 16,
   "id": "1564366f",
   "metadata": {
    "execution": {
     "iopub.execute_input": "2023-11-29T09:31:02.266730Z",
     "iopub.status.busy": "2023-11-29T09:31:02.265652Z",
     "iopub.status.idle": "2023-11-29T09:31:02.274865Z",
     "shell.execute_reply": "2023-11-29T09:31:02.273706Z"
    },
    "papermill": {
     "duration": 0.025556,
     "end_time": "2023-11-29T09:31:02.277312",
     "exception": false,
     "start_time": "2023-11-29T09:31:02.251756",
     "status": "completed"
    },
    "tags": []
   },
   "outputs": [
    {
     "data": {
      "text/plain": [
       "Gender\n",
       "Male      40\n",
       "Female    40\n",
       "Name: count, dtype: int64"
      ]
     },
     "execution_count": 16,
     "metadata": {},
     "output_type": "execute_result"
    }
   ],
   "source": [
    "df_195.Gender.value_counts()"
   ]
  },
  {
   "cell_type": "markdown",
   "id": "2ebd6937",
   "metadata": {
    "papermill": {
     "duration": 0.012924,
     "end_time": "2023-11-29T09:31:02.302652",
     "exception": false,
     "start_time": "2023-11-29T09:31:02.289728",
     "status": "completed"
    },
    "tags": []
   },
   "source": [
    "***Gender wise the model (TM195) using ratio is same***"
   ]
  },
  {
   "cell_type": "code",
   "execution_count": 17,
   "id": "1eecb371",
   "metadata": {
    "execution": {
     "iopub.execute_input": "2023-11-29T09:31:02.330994Z",
     "iopub.status.busy": "2023-11-29T09:31:02.330594Z",
     "iopub.status.idle": "2023-11-29T09:31:02.341786Z",
     "shell.execute_reply": "2023-11-29T09:31:02.339922Z"
    },
    "papermill": {
     "duration": 0.028827,
     "end_time": "2023-11-29T09:31:02.344553",
     "exception": false,
     "start_time": "2023-11-29T09:31:02.315726",
     "status": "completed"
    },
    "tags": []
   },
   "outputs": [
    {
     "data": {
      "text/plain": [
       "Age\n",
       "23    8\n",
       "25    7\n",
       "26    7\n",
       "28    6\n",
       "24    5\n",
       "38    4\n",
       "21    4\n",
       "22    4\n",
       "29    3\n",
       "19    3\n",
       "27    3\n",
       "35    3\n",
       "34    2\n",
       "33    2\n",
       "32    2\n",
       "31    2\n",
       "30    2\n",
       "20    2\n",
       "41    1\n",
       "47    1\n",
       "46    1\n",
       "44    1\n",
       "43    1\n",
       "18    1\n",
       "40    1\n",
       "39    1\n",
       "37    1\n",
       "36    1\n",
       "50    1\n",
       "Name: count, dtype: int64"
      ]
     },
     "execution_count": 17,
     "metadata": {},
     "output_type": "execute_result"
    }
   ],
   "source": [
    "df_195['Age'].value_counts()"
   ]
  },
  {
   "cell_type": "markdown",
   "id": "13777a2a",
   "metadata": {
    "papermill": {
     "duration": 0.012467,
     "end_time": "2023-11-29T09:31:02.371698",
     "exception": false,
     "start_time": "2023-11-29T09:31:02.359231",
     "status": "completed"
    },
    "tags": []
   },
   "source": [
    "*Age can be different for every person and so the number of the unique value will increase.*\n",
    "\n",
    "*Age values can be segmented within a group, rather than age, age group will be limited as it will work as range*"
   ]
  },
  {
   "cell_type": "code",
   "execution_count": 18,
   "id": "6270ff4d",
   "metadata": {
    "execution": {
     "iopub.execute_input": "2023-11-29T09:31:02.399286Z",
     "iopub.status.busy": "2023-11-29T09:31:02.398874Z",
     "iopub.status.idle": "2023-11-29T09:31:02.445026Z",
     "shell.execute_reply": "2023-11-29T09:31:02.443791Z"
    },
    "papermill": {
     "duration": 0.06312,
     "end_time": "2023-11-29T09:31:02.447935",
     "exception": false,
     "start_time": "2023-11-29T09:31:02.384815",
     "status": "completed"
    },
    "tags": []
   },
   "outputs": [],
   "source": [
    "#df['Age Group'] = \n",
    "\n",
    "for lab, row in df.iterrows():\n",
    "    if row['Age'] >= 18 and row['Age'] <30:\n",
    "        df.loc[lab,'Age Group'] = '18-29'\n",
    "    elif row['Age'] >= 30 and row['Age'] <40:\n",
    "        df.loc[lab, 'Age Group'] = '30-39'\n",
    "    elif row['Age'] >= 40 and row['Age'] <50:\n",
    "        df.loc[lab, 'Age Group'] = '40-49'\n",
    "    elif row['Age'] >= 50 and row['Age'] <=60:\n",
    "        df.loc[lab, 'Age Group'] = '50-60'\n",
    "    else:\n",
    "        df.loc[lab,'Age Group'] = 'Under or Over Aged'"
   ]
  },
  {
   "cell_type": "code",
   "execution_count": 19,
   "id": "adf37175",
   "metadata": {
    "execution": {
     "iopub.execute_input": "2023-11-29T09:31:02.476896Z",
     "iopub.status.busy": "2023-11-29T09:31:02.476419Z",
     "iopub.status.idle": "2023-11-29T09:31:02.491779Z",
     "shell.execute_reply": "2023-11-29T09:31:02.490571Z"
    },
    "papermill": {
     "duration": 0.032979,
     "end_time": "2023-11-29T09:31:02.494258",
     "exception": false,
     "start_time": "2023-11-29T09:31:02.461279",
     "status": "completed"
    },
    "tags": []
   },
   "outputs": [
    {
     "data": {
      "text/html": [
       "<div>\n",
       "<style scoped>\n",
       "    .dataframe tbody tr th:only-of-type {\n",
       "        vertical-align: middle;\n",
       "    }\n",
       "\n",
       "    .dataframe tbody tr th {\n",
       "        vertical-align: top;\n",
       "    }\n",
       "\n",
       "    .dataframe thead th {\n",
       "        text-align: right;\n",
       "    }\n",
       "</style>\n",
       "<table border=\"1\" class=\"dataframe\">\n",
       "  <thead>\n",
       "    <tr style=\"text-align: right;\">\n",
       "      <th></th>\n",
       "      <th>Product</th>\n",
       "      <th>Age</th>\n",
       "      <th>Gender</th>\n",
       "      <th>Education</th>\n",
       "      <th>MaritalStatus</th>\n",
       "      <th>Usage</th>\n",
       "      <th>Fitness</th>\n",
       "      <th>Income</th>\n",
       "      <th>Miles</th>\n",
       "      <th>Age Group</th>\n",
       "    </tr>\n",
       "  </thead>\n",
       "  <tbody>\n",
       "    <tr>\n",
       "      <th>0</th>\n",
       "      <td>TM195</td>\n",
       "      <td>18</td>\n",
       "      <td>Male</td>\n",
       "      <td>14</td>\n",
       "      <td>Single</td>\n",
       "      <td>3</td>\n",
       "      <td>4</td>\n",
       "      <td>29562</td>\n",
       "      <td>112</td>\n",
       "      <td>18-29</td>\n",
       "    </tr>\n",
       "    <tr>\n",
       "      <th>1</th>\n",
       "      <td>TM195</td>\n",
       "      <td>19</td>\n",
       "      <td>Male</td>\n",
       "      <td>15</td>\n",
       "      <td>Single</td>\n",
       "      <td>2</td>\n",
       "      <td>3</td>\n",
       "      <td>31836</td>\n",
       "      <td>75</td>\n",
       "      <td>18-29</td>\n",
       "    </tr>\n",
       "    <tr>\n",
       "      <th>2</th>\n",
       "      <td>TM195</td>\n",
       "      <td>19</td>\n",
       "      <td>Female</td>\n",
       "      <td>14</td>\n",
       "      <td>Partnered</td>\n",
       "      <td>4</td>\n",
       "      <td>3</td>\n",
       "      <td>30699</td>\n",
       "      <td>66</td>\n",
       "      <td>18-29</td>\n",
       "    </tr>\n",
       "    <tr>\n",
       "      <th>3</th>\n",
       "      <td>TM195</td>\n",
       "      <td>19</td>\n",
       "      <td>Male</td>\n",
       "      <td>12</td>\n",
       "      <td>Single</td>\n",
       "      <td>3</td>\n",
       "      <td>3</td>\n",
       "      <td>32973</td>\n",
       "      <td>85</td>\n",
       "      <td>18-29</td>\n",
       "    </tr>\n",
       "    <tr>\n",
       "      <th>4</th>\n",
       "      <td>TM195</td>\n",
       "      <td>20</td>\n",
       "      <td>Male</td>\n",
       "      <td>13</td>\n",
       "      <td>Partnered</td>\n",
       "      <td>4</td>\n",
       "      <td>2</td>\n",
       "      <td>35247</td>\n",
       "      <td>47</td>\n",
       "      <td>18-29</td>\n",
       "    </tr>\n",
       "  </tbody>\n",
       "</table>\n",
       "</div>"
      ],
      "text/plain": [
       "  Product  Age  Gender  Education MaritalStatus  Usage  Fitness  Income  \\\n",
       "0   TM195   18    Male         14        Single      3        4   29562   \n",
       "1   TM195   19    Male         15        Single      2        3   31836   \n",
       "2   TM195   19  Female         14     Partnered      4        3   30699   \n",
       "3   TM195   19    Male         12        Single      3        3   32973   \n",
       "4   TM195   20    Male         13     Partnered      4        2   35247   \n",
       "\n",
       "   Miles Age Group  \n",
       "0    112     18-29  \n",
       "1     75     18-29  \n",
       "2     66     18-29  \n",
       "3     85     18-29  \n",
       "4     47     18-29  "
      ]
     },
     "execution_count": 19,
     "metadata": {},
     "output_type": "execute_result"
    }
   ],
   "source": [
    "df.head()"
   ]
  },
  {
   "cell_type": "code",
   "execution_count": 20,
   "id": "9d15d23d",
   "metadata": {
    "execution": {
     "iopub.execute_input": "2023-11-29T09:31:02.522382Z",
     "iopub.status.busy": "2023-11-29T09:31:02.521944Z",
     "iopub.status.idle": "2023-11-29T09:31:02.539929Z",
     "shell.execute_reply": "2023-11-29T09:31:02.538987Z"
    },
    "papermill": {
     "duration": 0.034794,
     "end_time": "2023-11-29T09:31:02.542326",
     "exception": false,
     "start_time": "2023-11-29T09:31:02.507532",
     "status": "completed"
    },
    "tags": []
   },
   "outputs": [
    {
     "data": {
      "text/html": [
       "<div>\n",
       "<style scoped>\n",
       "    .dataframe tbody tr th:only-of-type {\n",
       "        vertical-align: middle;\n",
       "    }\n",
       "\n",
       "    .dataframe tbody tr th {\n",
       "        vertical-align: top;\n",
       "    }\n",
       "\n",
       "    .dataframe thead th {\n",
       "        text-align: right;\n",
       "    }\n",
       "</style>\n",
       "<table border=\"1\" class=\"dataframe\">\n",
       "  <thead>\n",
       "    <tr style=\"text-align: right;\">\n",
       "      <th></th>\n",
       "      <th>Product</th>\n",
       "      <th>Age</th>\n",
       "      <th>Gender</th>\n",
       "      <th>Education</th>\n",
       "      <th>MaritalStatus</th>\n",
       "      <th>Usage</th>\n",
       "      <th>Fitness</th>\n",
       "      <th>Income</th>\n",
       "      <th>Miles</th>\n",
       "      <th>Age Group</th>\n",
       "    </tr>\n",
       "  </thead>\n",
       "  <tbody>\n",
       "    <tr>\n",
       "      <th>0</th>\n",
       "      <td>TM195</td>\n",
       "      <td>18</td>\n",
       "      <td>Male</td>\n",
       "      <td>14</td>\n",
       "      <td>Single</td>\n",
       "      <td>3</td>\n",
       "      <td>4</td>\n",
       "      <td>29562</td>\n",
       "      <td>112</td>\n",
       "      <td>18-29</td>\n",
       "    </tr>\n",
       "    <tr>\n",
       "      <th>1</th>\n",
       "      <td>TM195</td>\n",
       "      <td>19</td>\n",
       "      <td>Male</td>\n",
       "      <td>15</td>\n",
       "      <td>Single</td>\n",
       "      <td>2</td>\n",
       "      <td>3</td>\n",
       "      <td>31836</td>\n",
       "      <td>75</td>\n",
       "      <td>18-29</td>\n",
       "    </tr>\n",
       "    <tr>\n",
       "      <th>2</th>\n",
       "      <td>TM195</td>\n",
       "      <td>19</td>\n",
       "      <td>Female</td>\n",
       "      <td>14</td>\n",
       "      <td>Partnered</td>\n",
       "      <td>4</td>\n",
       "      <td>3</td>\n",
       "      <td>30699</td>\n",
       "      <td>66</td>\n",
       "      <td>18-29</td>\n",
       "    </tr>\n",
       "    <tr>\n",
       "      <th>3</th>\n",
       "      <td>TM195</td>\n",
       "      <td>19</td>\n",
       "      <td>Male</td>\n",
       "      <td>12</td>\n",
       "      <td>Single</td>\n",
       "      <td>3</td>\n",
       "      <td>3</td>\n",
       "      <td>32973</td>\n",
       "      <td>85</td>\n",
       "      <td>18-29</td>\n",
       "    </tr>\n",
       "    <tr>\n",
       "      <th>4</th>\n",
       "      <td>TM195</td>\n",
       "      <td>20</td>\n",
       "      <td>Male</td>\n",
       "      <td>13</td>\n",
       "      <td>Partnered</td>\n",
       "      <td>4</td>\n",
       "      <td>2</td>\n",
       "      <td>35247</td>\n",
       "      <td>47</td>\n",
       "      <td>18-29</td>\n",
       "    </tr>\n",
       "  </tbody>\n",
       "</table>\n",
       "</div>"
      ],
      "text/plain": [
       "  Product  Age  Gender  Education MaritalStatus  Usage  Fitness  Income  \\\n",
       "0   TM195   18    Male         14        Single      3        4   29562   \n",
       "1   TM195   19    Male         15        Single      2        3   31836   \n",
       "2   TM195   19  Female         14     Partnered      4        3   30699   \n",
       "3   TM195   19    Male         12        Single      3        3   32973   \n",
       "4   TM195   20    Male         13     Partnered      4        2   35247   \n",
       "\n",
       "   Miles Age Group  \n",
       "0    112     18-29  \n",
       "1     75     18-29  \n",
       "2     66     18-29  \n",
       "3     85     18-29  \n",
       "4     47     18-29  "
      ]
     },
     "execution_count": 20,
     "metadata": {},
     "output_type": "execute_result"
    }
   ],
   "source": [
    "# sub setting for the TM195 products after adding Age Group\n",
    "df_195 = df[df['Product']=='TM195']\n",
    "df_195.head()"
   ]
  },
  {
   "cell_type": "code",
   "execution_count": 21,
   "id": "9547f2a2",
   "metadata": {
    "execution": {
     "iopub.execute_input": "2023-11-29T09:31:02.572764Z",
     "iopub.status.busy": "2023-11-29T09:31:02.571432Z",
     "iopub.status.idle": "2023-11-29T09:31:02.579968Z",
     "shell.execute_reply": "2023-11-29T09:31:02.579088Z"
    },
    "papermill": {
     "duration": 0.026455,
     "end_time": "2023-11-29T09:31:02.582307",
     "exception": false,
     "start_time": "2023-11-29T09:31:02.555852",
     "status": "completed"
    },
    "tags": []
   },
   "outputs": [
    {
     "data": {
      "text/plain": [
       "Age Group\n",
       "18-29    113\n",
       "30-39     50\n",
       "40-49     16\n",
       "50-60      1\n",
       "Name: count, dtype: int64"
      ]
     },
     "execution_count": 21,
     "metadata": {},
     "output_type": "execute_result"
    }
   ],
   "source": [
    "df['Age Group'].value_counts()"
   ]
  },
  {
   "cell_type": "code",
   "execution_count": 22,
   "id": "b92477ac",
   "metadata": {
    "execution": {
     "iopub.execute_input": "2023-11-29T09:31:02.611916Z",
     "iopub.status.busy": "2023-11-29T09:31:02.610995Z",
     "iopub.status.idle": "2023-11-29T09:31:02.620676Z",
     "shell.execute_reply": "2023-11-29T09:31:02.619235Z"
    },
    "papermill": {
     "duration": 0.026982,
     "end_time": "2023-11-29T09:31:02.623212",
     "exception": false,
     "start_time": "2023-11-29T09:31:02.596230",
     "status": "completed"
    },
    "tags": []
   },
   "outputs": [
    {
     "data": {
      "text/plain": [
       "Age Group\n",
       "18-29    53\n",
       "30-39    20\n",
       "40-49     6\n",
       "50-60     1\n",
       "Name: count, dtype: int64"
      ]
     },
     "execution_count": 22,
     "metadata": {},
     "output_type": "execute_result"
    }
   ],
   "source": [
    "df_195['Age Group'].value_counts()"
   ]
  },
  {
   "cell_type": "code",
   "execution_count": 23,
   "id": "6abf64e2",
   "metadata": {
    "execution": {
     "iopub.execute_input": "2023-11-29T09:31:02.652333Z",
     "iopub.status.busy": "2023-11-29T09:31:02.651906Z",
     "iopub.status.idle": "2023-11-29T09:31:03.074820Z",
     "shell.execute_reply": "2023-11-29T09:31:03.073537Z"
    },
    "papermill": {
     "duration": 0.440409,
     "end_time": "2023-11-29T09:31:03.077339",
     "exception": false,
     "start_time": "2023-11-29T09:31:02.636930",
     "status": "completed"
    },
    "tags": []
   },
   "outputs": [
    {
     "data": {
      "text/plain": [
       "Text(0.5, 1.0, 'Age Wise Count of Users')"
      ]
     },
     "execution_count": 23,
     "metadata": {},
     "output_type": "execute_result"
    },
    {
     "data": {
      "image/png": "[encoded data removed]",
      "text/plain": [
       "<Figure size 500x500 with 1 Axes>"
      ]
     },
     "metadata": {},
     "output_type": "display_data"
    }
   ],
   "source": [
    "sns.catplot(data=df_195\n",
    "            ,x='Age Group'\n",
    "            ,kind='count')\n",
    "\n",
    "plt.title('Age Wise Count of Users')"
   ]
  },
  {
   "cell_type": "code",
   "execution_count": 24,
   "id": "4edcd552",
   "metadata": {
    "execution": {
     "iopub.execute_input": "2023-11-29T09:31:03.108515Z",
     "iopub.status.busy": "2023-11-29T09:31:03.108098Z",
     "iopub.status.idle": "2023-11-29T09:31:03.558061Z",
     "shell.execute_reply": "2023-11-29T09:31:03.556804Z"
    },
    "papermill": {
     "duration": 0.468344,
     "end_time": "2023-11-29T09:31:03.560565",
     "exception": false,
     "start_time": "2023-11-29T09:31:03.092221",
     "status": "completed"
    },
    "tags": []
   },
   "outputs": [
    {
     "data": {
      "text/plain": [
       "<Axes: xlabel='Age', ylabel='Income'>"
      ]
     },
     "execution_count": 24,
     "metadata": {},
     "output_type": "execute_result"
    },
    {
     "data": {
      "image/png": "[encoded data removed]",
      "text/plain": [
       "<Figure size 640x480 with 1 Axes>"
      ]
     },
     "metadata": {},
     "output_type": "display_data"
    }
   ],
   "source": [
    "sns.regplot(x='Age',\n",
    "           y='Income',\n",
    "           data=df_195)\n",
    "          # hue='Age Group')"
   ]
  },
  {
   "cell_type": "markdown",
   "id": "5ff07dd4",
   "metadata": {
    "papermill": {
     "duration": 0.014833,
     "end_time": "2023-11-29T09:31:03.591249",
     "exception": false,
     "start_time": "2023-11-29T09:31:03.576416",
     "status": "completed"
    },
    "tags": []
   },
   "source": [
    "*Age and Income is in a linear relation*"
   ]
  },
  {
   "cell_type": "code",
   "execution_count": 25,
   "id": "11d6f4a2",
   "metadata": {
    "execution": {
     "iopub.execute_input": "2023-11-29T09:31:03.624857Z",
     "iopub.status.busy": "2023-11-29T09:31:03.624432Z",
     "iopub.status.idle": "2023-11-29T09:31:03.633373Z",
     "shell.execute_reply": "2023-11-29T09:31:03.632375Z"
    },
    "papermill": {
     "duration": 0.028121,
     "end_time": "2023-11-29T09:31:03.635794",
     "exception": false,
     "start_time": "2023-11-29T09:31:03.607673",
     "status": "completed"
    },
    "tags": []
   },
   "outputs": [
    {
     "data": {
      "text/plain": [
       "0.7518313702099026"
      ]
     },
     "execution_count": 25,
     "metadata": {},
     "output_type": "execute_result"
    }
   ],
   "source": [
    "df_195['Age'].corr(df_195['Income'])"
   ]
  },
  {
   "cell_type": "markdown",
   "id": "8ed42dc6",
   "metadata": {
    "papermill": {
     "duration": 0.01506,
     "end_time": "2023-11-29T09:31:03.731463",
     "exception": false,
     "start_time": "2023-11-29T09:31:03.716403",
     "status": "completed"
    },
    "tags": []
   },
   "source": [
    "Age and Income having a correlation value of 0.75 which means they are in positive correlation and they are highly correlated  "
   ]
  },
  {
   "cell_type": "code",
   "execution_count": 26,
   "id": "0ffe34fe",
   "metadata": {
    "execution": {
     "iopub.execute_input": "2023-11-29T09:31:03.764045Z",
     "iopub.status.busy": "2023-11-29T09:31:03.763628Z",
     "iopub.status.idle": "2023-11-29T09:31:03.772591Z",
     "shell.execute_reply": "2023-11-29T09:31:03.771711Z"
    },
    "papermill": {
     "duration": 0.028186,
     "end_time": "2023-11-29T09:31:03.774884",
     "exception": false,
     "start_time": "2023-11-29T09:31:03.746698",
     "status": "completed"
    },
    "tags": []
   },
   "outputs": [
    {
     "data": {
      "text/plain": [
       "Education\n",
       "16    85\n",
       "14    55\n",
       "18    23\n",
       "15     5\n",
       "13     5\n",
       "12     3\n",
       "21     3\n",
       "20     1\n",
       "Name: count, dtype: int64"
      ]
     },
     "execution_count": 26,
     "metadata": {},
     "output_type": "execute_result"
    }
   ],
   "source": [
    "df.Education.value_counts()"
   ]
  }
 ],
 "metadata": {
  "kaggle": {
   "accelerator": "none",
   "dataSources": [
    {
     "datasetId": 2602526,
     "sourceId": 4444140,
     "sourceType": "datasetVersion"
    }
   ],
   "dockerImageVersionId": 30587,
   "isGpuEnabled": false,
   "isInternetEnabled": true,
   "language": "python",
   "sourceType": "notebook"
  },
  "kernelspec": {
   "display_name": "Python 3",
   "language": "python",
   "name": "python3"
  },
  "language_info": {
   "codemirror_mode": {
    "name": "ipython",
    "version": 3
   },
   "file_extension": ".py",
   "mimetype": "text/x-python",
   "name": "python",
   "nbconvert_exporter": "python",
   "pygments_lexer": "ipython3",
   "version": "3.10.12"
  },
  "papermill": {
   "default_parameters": {},
   "duration": 8.924569,
   "end_time": "2023-11-29T09:31:04.514664",
   "environment_variables": {},
   "exception": null,
   "input_path": "__notebook__.ipynb",
   "output_path": "__notebook__.ipynb",
   "parameters": {},
   "start_time": "2023-11-29T09:30:55.590095",
   "version": "2.4.0"
  }
 },
 "nbformat": 4,
 "nbformat_minor": 5
}
