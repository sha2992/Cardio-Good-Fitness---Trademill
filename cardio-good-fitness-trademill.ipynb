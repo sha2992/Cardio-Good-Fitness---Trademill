{
 "cells": [
  {
   "cell_type": "code",
   "execution_count": 1,
   "id": "1b81d011",
   "metadata": {
    "_cell_guid": "b1076dfc-b9ad-4769-8c92-a6c4dae69d19",
    "_uuid": "8f2839f25d086af736a60e9eeb907d3b93b6e0e5",
    "execution": {
     "iopub.execute_input": "2023-11-29T09:56:19.966371Z",
     "iopub.status.busy": "2023-11-29T09:56:19.965939Z",
     "iopub.status.idle": "2023-11-29T09:56:20.430802Z",
     "shell.execute_reply": "2023-11-29T09:56:20.429515Z"
    },
    "papermill": {
     "duration": 0.480053,
     "end_time": "2023-11-29T09:56:20.433657",
     "exception": false,
     "start_time": "2023-11-29T09:56:19.953604",
     "status": "completed"
    },
    "tags": []
   },
   "outputs": [
    {
     "name": "stdout",
     "output_type": "stream",
     "text": [
      "/kaggle/input/cardio-good-fitness/CardioGoodFitness.csv\n"
     ]
    }
   ],
   "source": [
    "##This Python 3 environment comes with many helpful analytics libraries installed\n",
    "##It is defined by the kaggle/python Docker image: https://github.com/kaggle/docker-python\n",
    "##For example, here's several helpful packages to load\n",
    "\n",
    "import numpy as np # linear algebra\n",
    "import pandas as pd # data processing, CSV file I/O (e.g. pd.read_csv)\n",
    "\n",
    "#Input data files are available in the read-only \"../input/\" directory\n",
    "#For example, running this (by clicking run or pressing Shift+Enter) will list all files under the input directory\n",
    "\n",
    "import os\n",
    "for dirname, _, filenames in os.walk('/kaggle/input'):\n",
    "    for filename in filenames:\n",
    "        print(os.path.join(dirname, filename))\n",
    "\n",
    "#You can write up to 20GB to the current directory (/kaggle/working/) that gets preserved as output when you create a version using \"Save & Run All\" \n",
    "#You can also write temporary files to /kaggle/temp/, but they won't be saved outside of the current session"
   ]
  },
  {
   "cell_type": "code",
   "execution_count": 2,
   "id": "ce420551",
   "metadata": {
    "execution": {
     "iopub.execute_input": "2023-11-29T09:56:20.456713Z",
     "iopub.status.busy": "2023-11-29T09:56:20.455571Z",
     "iopub.status.idle": "2023-11-29T09:56:20.498288Z",
     "shell.execute_reply": "2023-11-29T09:56:20.497375Z"
    },
    "papermill": {
     "duration": 0.056806,
     "end_time": "2023-11-29T09:56:20.500871",
     "exception": false,
     "start_time": "2023-11-29T09:56:20.444065",
     "status": "completed"
    },
    "tags": []
   },
   "outputs": [
    {
     "data": {
      "text/html": [
       "<div>\n",
       "<style scoped>\n",
       "    .dataframe tbody tr th:only-of-type {\n",
       "        vertical-align: middle;\n",
       "    }\n",
       "\n",
       "    .dataframe tbody tr th {\n",
       "        vertical-align: top;\n",
       "    }\n",
       "\n",
       "    .dataframe thead th {\n",
       "        text-align: right;\n",
       "    }\n",
       "</style>\n",
       "<table border=\"1\" class=\"dataframe\">\n",
       "  <thead>\n",
       "    <tr style=\"text-align: right;\">\n",
       "      <th></th>\n",
       "      <th>Product</th>\n",
       "      <th>Age</th>\n",
       "      <th>Gender</th>\n",
       "      <th>Education</th>\n",
       "      <th>MaritalStatus</th>\n",
       "      <th>Usage</th>\n",
       "      <th>Fitness</th>\n",
       "      <th>Income</th>\n",
       "      <th>Miles</th>\n",
       "    </tr>\n",
       "  </thead>\n",
       "  <tbody>\n",
       "    <tr>\n",
       "      <th>0</th>\n",
       "      <td>TM195</td>\n",
       "      <td>18</td>\n",
       "      <td>Male</td>\n",
       "      <td>14</td>\n",
       "      <td>Single</td>\n",
       "      <td>3</td>\n",
       "      <td>4</td>\n",
       "      <td>29562</td>\n",
       "      <td>112</td>\n",
       "    </tr>\n",
       "    <tr>\n",
       "      <th>1</th>\n",
       "      <td>TM195</td>\n",
       "      <td>19</td>\n",
       "      <td>Male</td>\n",
       "      <td>15</td>\n",
       "      <td>Single</td>\n",
       "      <td>2</td>\n",
       "      <td>3</td>\n",
       "      <td>31836</td>\n",
       "      <td>75</td>\n",
       "    </tr>\n",
       "    <tr>\n",
       "      <th>2</th>\n",
       "      <td>TM195</td>\n",
       "      <td>19</td>\n",
       "      <td>Female</td>\n",
       "      <td>14</td>\n",
       "      <td>Partnered</td>\n",
       "      <td>4</td>\n",
       "      <td>3</td>\n",
       "      <td>30699</td>\n",
       "      <td>66</td>\n",
       "    </tr>\n",
       "    <tr>\n",
       "      <th>3</th>\n",
       "      <td>TM195</td>\n",
       "      <td>19</td>\n",
       "      <td>Male</td>\n",
       "      <td>12</td>\n",
       "      <td>Single</td>\n",
       "      <td>3</td>\n",
       "      <td>3</td>\n",
       "      <td>32973</td>\n",
       "      <td>85</td>\n",
       "    </tr>\n",
       "    <tr>\n",
       "      <th>4</th>\n",
       "      <td>TM195</td>\n",
       "      <td>20</td>\n",
       "      <td>Male</td>\n",
       "      <td>13</td>\n",
       "      <td>Partnered</td>\n",
       "      <td>4</td>\n",
       "      <td>2</td>\n",
       "      <td>35247</td>\n",
       "      <td>47</td>\n",
       "    </tr>\n",
       "  </tbody>\n",
       "</table>\n",
       "</div>"
      ],
      "text/plain": [
       "  Product  Age  Gender  Education MaritalStatus  Usage  Fitness  Income  Miles\n",
       "0   TM195   18    Male         14        Single      3        4   29562    112\n",
       "1   TM195   19    Male         15        Single      2        3   31836     75\n",
       "2   TM195   19  Female         14     Partnered      4        3   30699     66\n",
       "3   TM195   19    Male         12        Single      3        3   32973     85\n",
       "4   TM195   20    Male         13     Partnered      4        2   35247     47"
      ]
     },
     "execution_count": 2,
     "metadata": {},
     "output_type": "execute_result"
    }
   ],
   "source": [
    "df = pd.read_csv('/kaggle/input/cardio-good-fitness/CardioGoodFitness.csv')\n",
    "df.head()"
   ]
  },
  {
   "cell_type": "code",
   "execution_count": 3,
   "id": "6c9063a3",
   "metadata": {
    "execution": {
     "iopub.execute_input": "2023-11-29T09:56:20.524799Z",
     "iopub.status.busy": "2023-11-29T09:56:20.523386Z",
     "iopub.status.idle": "2023-11-29T09:56:20.531023Z",
     "shell.execute_reply": "2023-11-29T09:56:20.530141Z"
    },
    "papermill": {
     "duration": 0.021797,
     "end_time": "2023-11-29T09:56:20.533424",
     "exception": false,
     "start_time": "2023-11-29T09:56:20.511627",
     "status": "completed"
    },
    "tags": []
   },
   "outputs": [
    {
     "data": {
      "text/plain": [
       "(180, 9)"
      ]
     },
     "execution_count": 3,
     "metadata": {},
     "output_type": "execute_result"
    }
   ],
   "source": [
    "df.shape"
   ]
  },
  {
   "cell_type": "code",
   "execution_count": 4,
   "id": "fb7c34a2",
   "metadata": {
    "execution": {
     "iopub.execute_input": "2023-11-29T09:56:20.557289Z",
     "iopub.status.busy": "2023-11-29T09:56:20.556516Z",
     "iopub.status.idle": "2023-11-29T09:56:20.561246Z",
     "shell.execute_reply": "2023-11-29T09:56:20.560409Z"
    },
    "papermill": {
     "duration": 0.019452,
     "end_time": "2023-11-29T09:56:20.563730",
     "exception": false,
     "start_time": "2023-11-29T09:56:20.544278",
     "status": "completed"
    },
    "tags": []
   },
   "outputs": [],
   "source": [
    "rows = df.shape[0]\n",
    "columns = df.shape[1]\n",
    "#rows"
   ]
  },
  {
   "cell_type": "code",
   "execution_count": 5,
   "id": "cd4e86d5",
   "metadata": {
    "execution": {
     "iopub.execute_input": "2023-11-29T09:56:20.587605Z",
     "iopub.status.busy": "2023-11-29T09:56:20.586618Z",
     "iopub.status.idle": "2023-11-29T09:56:20.618070Z",
     "shell.execute_reply": "2023-11-29T09:56:20.616530Z"
    },
    "papermill": {
     "duration": 0.046276,
     "end_time": "2023-11-29T09:56:20.620844",
     "exception": false,
     "start_time": "2023-11-29T09:56:20.574568",
     "status": "completed"
    },
    "tags": []
   },
   "outputs": [
    {
     "name": "stdout",
     "output_type": "stream",
     "text": [
      "<class 'pandas.core.frame.DataFrame'>\n",
      "RangeIndex: 180 entries, 0 to 179\n",
      "Data columns (total 9 columns):\n",
      " #   Column         Non-Null Count  Dtype \n",
      "---  ------         --------------  ----- \n",
      " 0   Product        180 non-null    object\n",
      " 1   Age            180 non-null    int64 \n",
      " 2   Gender         180 non-null    object\n",
      " 3   Education      180 non-null    int64 \n",
      " 4   MaritalStatus  180 non-null    object\n",
      " 5   Usage          180 non-null    int64 \n",
      " 6   Fitness        180 non-null    int64 \n",
      " 7   Income         180 non-null    int64 \n",
      " 8   Miles          180 non-null    int64 \n",
      "dtypes: int64(6), object(3)\n",
      "memory usage: 12.8+ KB\n"
     ]
    }
   ],
   "source": [
    "df.info()"
   ]
  },
  {
   "cell_type": "code",
   "execution_count": 6,
   "id": "c34212d4",
   "metadata": {
    "execution": {
     "iopub.execute_input": "2023-11-29T09:56:20.645393Z",
     "iopub.status.busy": "2023-11-29T09:56:20.644945Z",
     "iopub.status.idle": "2023-11-29T09:56:20.653287Z",
     "shell.execute_reply": "2023-11-29T09:56:20.652141Z"
    },
    "papermill": {
     "duration": 0.023606,
     "end_time": "2023-11-29T09:56:20.656128",
     "exception": false,
     "start_time": "2023-11-29T09:56:20.632522",
     "status": "completed"
    },
    "tags": []
   },
   "outputs": [
    {
     "data": {
      "text/plain": [
       "Product          object\n",
       "Age               int64\n",
       "Gender           object\n",
       "Education         int64\n",
       "MaritalStatus    object\n",
       "Usage             int64\n",
       "Fitness           int64\n",
       "Income            int64\n",
       "Miles             int64\n",
       "dtype: object"
      ]
     },
     "execution_count": 6,
     "metadata": {},
     "output_type": "execute_result"
    }
   ],
   "source": [
    "df.dtypes"
   ]
  },
  {
   "cell_type": "code",
   "execution_count": 7,
   "id": "ae3f4e4f",
   "metadata": {
    "execution": {
     "iopub.execute_input": "2023-11-29T09:56:20.680169Z",
     "iopub.status.busy": "2023-11-29T09:56:20.679367Z",
     "iopub.status.idle": "2023-11-29T09:56:20.688931Z",
     "shell.execute_reply": "2023-11-29T09:56:20.687690Z"
    },
    "papermill": {
     "duration": 0.024391,
     "end_time": "2023-11-29T09:56:20.691399",
     "exception": false,
     "start_time": "2023-11-29T09:56:20.667008",
     "status": "completed"
    },
    "tags": []
   },
   "outputs": [
    {
     "data": {
      "text/plain": [
       "Product          0\n",
       "Age              0\n",
       "Gender           0\n",
       "Education        0\n",
       "MaritalStatus    0\n",
       "Usage            0\n",
       "Fitness          0\n",
       "Income           0\n",
       "Miles            0\n",
       "dtype: int64"
      ]
     },
     "execution_count": 7,
     "metadata": {},
     "output_type": "execute_result"
    }
   ],
   "source": [
    "df.isnull().sum()"
   ]
  },
  {
   "cell_type": "code",
   "execution_count": 8,
   "id": "db9f0b3f",
   "metadata": {
    "execution": {
     "iopub.execute_input": "2023-11-29T09:56:20.717066Z",
     "iopub.status.busy": "2023-11-29T09:56:20.716632Z",
     "iopub.status.idle": "2023-11-29T09:56:20.729442Z",
     "shell.execute_reply": "2023-11-29T09:56:20.728336Z"
    },
    "papermill": {
     "duration": 0.029142,
     "end_time": "2023-11-29T09:56:20.732509",
     "exception": false,
     "start_time": "2023-11-29T09:56:20.703367",
     "status": "completed"
    },
    "tags": []
   },
   "outputs": [
    {
     "data": {
      "text/plain": [
       "0"
      ]
     },
     "execution_count": 8,
     "metadata": {},
     "output_type": "execute_result"
    }
   ],
   "source": [
    "df.duplicated().sum()"
   ]
  },
  {
   "cell_type": "code",
   "execution_count": 9,
   "id": "aae6cb73",
   "metadata": {
    "execution": {
     "iopub.execute_input": "2023-11-29T09:56:20.761429Z",
     "iopub.status.busy": "2023-11-29T09:56:20.760851Z",
     "iopub.status.idle": "2023-11-29T09:56:20.796694Z",
     "shell.execute_reply": "2023-11-29T09:56:20.795340Z"
    },
    "papermill": {
     "duration": 0.054881,
     "end_time": "2023-11-29T09:56:20.800055",
     "exception": false,
     "start_time": "2023-11-29T09:56:20.745174",
     "status": "completed"
    },
    "tags": []
   },
   "outputs": [
    {
     "data": {
      "text/html": [
       "<div>\n",
       "<style scoped>\n",
       "    .dataframe tbody tr th:only-of-type {\n",
       "        vertical-align: middle;\n",
       "    }\n",
       "\n",
       "    .dataframe tbody tr th {\n",
       "        vertical-align: top;\n",
       "    }\n",
       "\n",
       "    .dataframe thead th {\n",
       "        text-align: right;\n",
       "    }\n",
       "</style>\n",
       "<table border=\"1\" class=\"dataframe\">\n",
       "  <thead>\n",
       "    <tr style=\"text-align: right;\">\n",
       "      <th></th>\n",
       "      <th>Age</th>\n",
       "      <th>Education</th>\n",
       "      <th>Usage</th>\n",
       "      <th>Fitness</th>\n",
       "      <th>Income</th>\n",
       "      <th>Miles</th>\n",
       "    </tr>\n",
       "  </thead>\n",
       "  <tbody>\n",
       "    <tr>\n",
       "      <th>count</th>\n",
       "      <td>180.000000</td>\n",
       "      <td>180.000000</td>\n",
       "      <td>180.000000</td>\n",
       "      <td>180.000000</td>\n",
       "      <td>180.000000</td>\n",
       "      <td>180.000000</td>\n",
       "    </tr>\n",
       "    <tr>\n",
       "      <th>mean</th>\n",
       "      <td>28.788889</td>\n",
       "      <td>15.572222</td>\n",
       "      <td>3.455556</td>\n",
       "      <td>3.311111</td>\n",
       "      <td>53719.577778</td>\n",
       "      <td>103.194444</td>\n",
       "    </tr>\n",
       "    <tr>\n",
       "      <th>std</th>\n",
       "      <td>6.943498</td>\n",
       "      <td>1.617055</td>\n",
       "      <td>1.084797</td>\n",
       "      <td>0.958869</td>\n",
       "      <td>16506.684226</td>\n",
       "      <td>51.863605</td>\n",
       "    </tr>\n",
       "    <tr>\n",
       "      <th>min</th>\n",
       "      <td>18.000000</td>\n",
       "      <td>12.000000</td>\n",
       "      <td>2.000000</td>\n",
       "      <td>1.000000</td>\n",
       "      <td>29562.000000</td>\n",
       "      <td>21.000000</td>\n",
       "    </tr>\n",
       "    <tr>\n",
       "      <th>25%</th>\n",
       "      <td>24.000000</td>\n",
       "      <td>14.000000</td>\n",
       "      <td>3.000000</td>\n",
       "      <td>3.000000</td>\n",
       "      <td>44058.750000</td>\n",
       "      <td>66.000000</td>\n",
       "    </tr>\n",
       "    <tr>\n",
       "      <th>50%</th>\n",
       "      <td>26.000000</td>\n",
       "      <td>16.000000</td>\n",
       "      <td>3.000000</td>\n",
       "      <td>3.000000</td>\n",
       "      <td>50596.500000</td>\n",
       "      <td>94.000000</td>\n",
       "    </tr>\n",
       "    <tr>\n",
       "      <th>75%</th>\n",
       "      <td>33.000000</td>\n",
       "      <td>16.000000</td>\n",
       "      <td>4.000000</td>\n",
       "      <td>4.000000</td>\n",
       "      <td>58668.000000</td>\n",
       "      <td>114.750000</td>\n",
       "    </tr>\n",
       "    <tr>\n",
       "      <th>max</th>\n",
       "      <td>50.000000</td>\n",
       "      <td>21.000000</td>\n",
       "      <td>7.000000</td>\n",
       "      <td>5.000000</td>\n",
       "      <td>104581.000000</td>\n",
       "      <td>360.000000</td>\n",
       "    </tr>\n",
       "  </tbody>\n",
       "</table>\n",
       "</div>"
      ],
      "text/plain": [
       "              Age   Education       Usage     Fitness         Income  \\\n",
       "count  180.000000  180.000000  180.000000  180.000000     180.000000   \n",
       "mean    28.788889   15.572222    3.455556    3.311111   53719.577778   \n",
       "std      6.943498    1.617055    1.084797    0.958869   16506.684226   \n",
       "min     18.000000   12.000000    2.000000    1.000000   29562.000000   \n",
       "25%     24.000000   14.000000    3.000000    3.000000   44058.750000   \n",
       "50%     26.000000   16.000000    3.000000    3.000000   50596.500000   \n",
       "75%     33.000000   16.000000    4.000000    4.000000   58668.000000   \n",
       "max     50.000000   21.000000    7.000000    5.000000  104581.000000   \n",
       "\n",
       "            Miles  \n",
       "count  180.000000  \n",
       "mean   103.194444  \n",
       "std     51.863605  \n",
       "min     21.000000  \n",
       "25%     66.000000  \n",
       "50%     94.000000  \n",
       "75%    114.750000  \n",
       "max    360.000000  "
      ]
     },
     "execution_count": 9,
     "metadata": {},
     "output_type": "execute_result"
    }
   ],
   "source": [
    "df.describe()"
   ]
  },
  {
   "cell_type": "code",
   "execution_count": 10,
   "id": "7801e982",
   "metadata": {
    "execution": {
     "iopub.execute_input": "2023-11-29T09:56:20.829079Z",
     "iopub.status.busy": "2023-11-29T09:56:20.827991Z",
     "iopub.status.idle": "2023-11-29T09:56:20.837779Z",
     "shell.execute_reply": "2023-11-29T09:56:20.836757Z"
    },
    "papermill": {
     "duration": 0.027418,
     "end_time": "2023-11-29T09:56:20.840415",
     "exception": false,
     "start_time": "2023-11-29T09:56:20.812997",
     "status": "completed"
    },
    "tags": []
   },
   "outputs": [
    {
     "data": {
      "text/plain": [
       "Product           3\n",
       "Age              32\n",
       "Gender            2\n",
       "Education         8\n",
       "MaritalStatus     2\n",
       "Usage             6\n",
       "Fitness           5\n",
       "Income           62\n",
       "Miles            37\n",
       "dtype: int64"
      ]
     },
     "execution_count": 10,
     "metadata": {},
     "output_type": "execute_result"
    }
   ],
   "source": [
    "df.nunique()"
   ]
  },
  {
   "cell_type": "code",
   "execution_count": 11,
   "id": "44d22661",
   "metadata": {
    "execution": {
     "iopub.execute_input": "2023-11-29T09:56:20.868240Z",
     "iopub.status.busy": "2023-11-29T09:56:20.867556Z",
     "iopub.status.idle": "2023-11-29T09:56:20.876516Z",
     "shell.execute_reply": "2023-11-29T09:56:20.875296Z"
    },
    "papermill": {
     "duration": 0.026515,
     "end_time": "2023-11-29T09:56:20.879153",
     "exception": false,
     "start_time": "2023-11-29T09:56:20.852638",
     "status": "completed"
    },
    "tags": []
   },
   "outputs": [
    {
     "data": {
      "text/plain": [
       "Product\n",
       "TM195    80\n",
       "TM498    60\n",
       "TM798    40\n",
       "Name: count, dtype: int64"
      ]
     },
     "execution_count": 11,
     "metadata": {},
     "output_type": "execute_result"
    }
   ],
   "source": [
    "df.Product.value_counts()"
   ]
  },
  {
   "cell_type": "code",
   "execution_count": 12,
   "id": "940fa896",
   "metadata": {
    "execution": {
     "iopub.execute_input": "2023-11-29T09:56:20.906092Z",
     "iopub.status.busy": "2023-11-29T09:56:20.905644Z",
     "iopub.status.idle": "2023-11-29T09:56:20.910894Z",
     "shell.execute_reply": "2023-11-29T09:56:20.909420Z"
    },
    "papermill": {
     "duration": 0.021665,
     "end_time": "2023-11-29T09:56:20.913567",
     "exception": false,
     "start_time": "2023-11-29T09:56:20.891902",
     "status": "completed"
    },
    "tags": []
   },
   "outputs": [],
   "source": [
    "# to find the name of the value\n",
    "#df.Product.value_counts().index[0]"
   ]
  },
  {
   "cell_type": "code",
   "execution_count": 13,
   "id": "d3fa0c02",
   "metadata": {
    "execution": {
     "iopub.execute_input": "2023-11-29T09:56:20.939508Z",
     "iopub.status.busy": "2023-11-29T09:56:20.939044Z",
     "iopub.status.idle": "2023-11-29T09:56:22.532781Z",
     "shell.execute_reply": "2023-11-29T09:56:22.531415Z"
    },
    "papermill": {
     "duration": 1.610399,
     "end_time": "2023-11-29T09:56:22.536054",
     "exception": false,
     "start_time": "2023-11-29T09:56:20.925655",
     "status": "completed"
    },
    "tags": []
   },
   "outputs": [],
   "source": [
    "%matplotlib inline \n",
    "import matplotlib.pyplot as plt\n",
    "import seaborn as sns"
   ]
  },
  {
   "cell_type": "code",
   "execution_count": 14,
   "id": "1a0c6025",
   "metadata": {
    "execution": {
     "iopub.execute_input": "2023-11-29T09:56:22.562529Z",
     "iopub.status.busy": "2023-11-29T09:56:22.562100Z",
     "iopub.status.idle": "2023-11-29T09:56:22.946558Z",
     "shell.execute_reply": "2023-11-29T09:56:22.945128Z"
    },
    "papermill": {
     "duration": 0.400258,
     "end_time": "2023-11-29T09:56:22.948989",
     "exception": false,
     "start_time": "2023-11-29T09:56:22.548731",
     "status": "completed"
    },
    "tags": []
   },
   "outputs": [
    {
     "data": {
      "text/plain": [
       "<Axes: xlabel='Product', ylabel='count'>"
      ]
     },
     "execution_count": 14,
     "metadata": {},
     "output_type": "execute_result"
    },
    {
     "data": {
      "image/png": "[encoded data removed]",
      "text/plain": [
       "<Figure size 640x480 with 1 Axes>"
      ]
     },
     "metadata": {},
     "output_type": "display_data"
    }
   ],
   "source": [
    "sns.countplot(data=df,x='Product')"
   ]
  },
  {
   "cell_type": "markdown",
   "id": "f26f9a37",
   "metadata": {
    "papermill": {
     "duration": 0.012022,
     "end_time": "2023-11-29T09:56:22.973528",
     "exception": false,
     "start_time": "2023-11-29T09:56:22.961506",
     "status": "completed"
    },
    "tags": []
   },
   "source": [
    "***Maximum People uses TM195***"
   ]
  },
  {
   "cell_type": "code",
   "execution_count": 15,
   "id": "1ac17e49",
   "metadata": {
    "execution": {
     "iopub.execute_input": "2023-11-29T09:56:23.000619Z",
     "iopub.status.busy": "2023-11-29T09:56:22.999723Z",
     "iopub.status.idle": "2023-11-29T09:56:23.320414Z",
     "shell.execute_reply": "2023-11-29T09:56:23.319523Z"
    },
    "papermill": {
     "duration": 0.336851,
     "end_time": "2023-11-29T09:56:23.322702",
     "exception": false,
     "start_time": "2023-11-29T09:56:22.985851",
     "status": "completed"
    },
    "tags": []
   },
   "outputs": [
    {
     "data": {
      "text/plain": [
       "<Axes: xlabel='Product', ylabel='count'>"
      ]
     },
     "execution_count": 15,
     "metadata": {},
     "output_type": "execute_result"
    },
    {
     "data": {
      "image/png": "[encoded data removed]",
      "text/plain": [
       "<Figure size 640x480 with 1 Axes>"
      ]
     },
     "metadata": {},
     "output_type": "display_data"
    }
   ],
   "source": [
    "sns.countplot(data=df,\n",
    "             x='Product',\n",
    "             hue='Gender')"
   ]
  },
  {
   "cell_type": "code",
   "execution_count": 16,
   "id": "f299d40f",
   "metadata": {
    "execution": {
     "iopub.execute_input": "2023-11-29T09:56:23.351160Z",
     "iopub.status.busy": "2023-11-29T09:56:23.350496Z",
     "iopub.status.idle": "2023-11-29T09:56:23.364820Z",
     "shell.execute_reply": "2023-11-29T09:56:23.363941Z"
    },
    "papermill": {
     "duration": 0.031658,
     "end_time": "2023-11-29T09:56:23.367466",
     "exception": false,
     "start_time": "2023-11-29T09:56:23.335808",
     "status": "completed"
    },
    "tags": []
   },
   "outputs": [
    {
     "data": {
      "text/html": [
       "<div>\n",
       "<style scoped>\n",
       "    .dataframe tbody tr th:only-of-type {\n",
       "        vertical-align: middle;\n",
       "    }\n",
       "\n",
       "    .dataframe tbody tr th {\n",
       "        vertical-align: top;\n",
       "    }\n",
       "\n",
       "    .dataframe thead th {\n",
       "        text-align: right;\n",
       "    }\n",
       "</style>\n",
       "<table border=\"1\" class=\"dataframe\">\n",
       "  <thead>\n",
       "    <tr style=\"text-align: right;\">\n",
       "      <th></th>\n",
       "      <th>Product</th>\n",
       "      <th>Age</th>\n",
       "      <th>Gender</th>\n",
       "      <th>Education</th>\n",
       "      <th>MaritalStatus</th>\n",
       "      <th>Usage</th>\n",
       "      <th>Fitness</th>\n",
       "      <th>Income</th>\n",
       "      <th>Miles</th>\n",
       "    </tr>\n",
       "  </thead>\n",
       "  <tbody>\n",
       "    <tr>\n",
       "      <th>0</th>\n",
       "      <td>TM195</td>\n",
       "      <td>18</td>\n",
       "      <td>Male</td>\n",
       "      <td>14</td>\n",
       "      <td>Single</td>\n",
       "      <td>3</td>\n",
       "      <td>4</td>\n",
       "      <td>29562</td>\n",
       "      <td>112</td>\n",
       "    </tr>\n",
       "    <tr>\n",
       "      <th>1</th>\n",
       "      <td>TM195</td>\n",
       "      <td>19</td>\n",
       "      <td>Male</td>\n",
       "      <td>15</td>\n",
       "      <td>Single</td>\n",
       "      <td>2</td>\n",
       "      <td>3</td>\n",
       "      <td>31836</td>\n",
       "      <td>75</td>\n",
       "    </tr>\n",
       "    <tr>\n",
       "      <th>2</th>\n",
       "      <td>TM195</td>\n",
       "      <td>19</td>\n",
       "      <td>Female</td>\n",
       "      <td>14</td>\n",
       "      <td>Partnered</td>\n",
       "      <td>4</td>\n",
       "      <td>3</td>\n",
       "      <td>30699</td>\n",
       "      <td>66</td>\n",
       "    </tr>\n",
       "    <tr>\n",
       "      <th>3</th>\n",
       "      <td>TM195</td>\n",
       "      <td>19</td>\n",
       "      <td>Male</td>\n",
       "      <td>12</td>\n",
       "      <td>Single</td>\n",
       "      <td>3</td>\n",
       "      <td>3</td>\n",
       "      <td>32973</td>\n",
       "      <td>85</td>\n",
       "    </tr>\n",
       "    <tr>\n",
       "      <th>4</th>\n",
       "      <td>TM195</td>\n",
       "      <td>20</td>\n",
       "      <td>Male</td>\n",
       "      <td>13</td>\n",
       "      <td>Partnered</td>\n",
       "      <td>4</td>\n",
       "      <td>2</td>\n",
       "      <td>35247</td>\n",
       "      <td>47</td>\n",
       "    </tr>\n",
       "  </tbody>\n",
       "</table>\n",
       "</div>"
      ],
      "text/plain": [
       "  Product  Age  Gender  Education MaritalStatus  Usage  Fitness  Income  Miles\n",
       "0   TM195   18    Male         14        Single      3        4   29562    112\n",
       "1   TM195   19    Male         15        Single      2        3   31836     75\n",
       "2   TM195   19  Female         14     Partnered      4        3   30699     66\n",
       "3   TM195   19    Male         12        Single      3        3   32973     85\n",
       "4   TM195   20    Male         13     Partnered      4        2   35247     47"
      ]
     },
     "execution_count": 16,
     "metadata": {},
     "output_type": "execute_result"
    }
   ],
   "source": [
    "# sub setting for the TM195 products\n",
    "df_195 = df[df['Product']=='TM195']\n",
    "df_195.head()"
   ]
  },
  {
   "cell_type": "code",
   "execution_count": 17,
   "id": "945839dc",
   "metadata": {
    "execution": {
     "iopub.execute_input": "2023-11-29T09:56:23.396749Z",
     "iopub.status.busy": "2023-11-29T09:56:23.396277Z",
     "iopub.status.idle": "2023-11-29T09:56:23.405348Z",
     "shell.execute_reply": "2023-11-29T09:56:23.404136Z"
    },
    "papermill": {
     "duration": 0.026697,
     "end_time": "2023-11-29T09:56:23.407992",
     "exception": false,
     "start_time": "2023-11-29T09:56:23.381295",
     "status": "completed"
    },
    "tags": []
   },
   "outputs": [
    {
     "data": {
      "text/plain": [
       "Gender\n",
       "Male      40\n",
       "Female    40\n",
       "Name: count, dtype: int64"
      ]
     },
     "execution_count": 17,
     "metadata": {},
     "output_type": "execute_result"
    }
   ],
   "source": [
    "df_195.Gender.value_counts()"
   ]
  },
  {
   "cell_type": "markdown",
   "id": "14dc2a58",
   "metadata": {
    "papermill": {
     "duration": 0.013133,
     "end_time": "2023-11-29T09:56:23.435016",
     "exception": false,
     "start_time": "2023-11-29T09:56:23.421883",
     "status": "completed"
    },
    "tags": []
   },
   "source": [
    "***Gender wise the model (TM195) using ratio is same***"
   ]
  },
  {
   "cell_type": "code",
   "execution_count": 18,
   "id": "95714e35",
   "metadata": {
    "execution": {
     "iopub.execute_input": "2023-11-29T09:56:23.464492Z",
     "iopub.status.busy": "2023-11-29T09:56:23.464031Z",
     "iopub.status.idle": "2023-11-29T09:56:23.473657Z",
     "shell.execute_reply": "2023-11-29T09:56:23.472588Z"
    },
    "papermill": {
     "duration": 0.027828,
     "end_time": "2023-11-29T09:56:23.476637",
     "exception": false,
     "start_time": "2023-11-29T09:56:23.448809",
     "status": "completed"
    },
    "tags": []
   },
   "outputs": [
    {
     "data": {
      "text/plain": [
       "Age\n",
       "23    8\n",
       "25    7\n",
       "26    7\n",
       "28    6\n",
       "24    5\n",
       "38    4\n",
       "21    4\n",
       "22    4\n",
       "29    3\n",
       "19    3\n",
       "27    3\n",
       "35    3\n",
       "34    2\n",
       "33    2\n",
       "32    2\n",
       "31    2\n",
       "30    2\n",
       "20    2\n",
       "41    1\n",
       "47    1\n",
       "46    1\n",
       "44    1\n",
       "43    1\n",
       "18    1\n",
       "40    1\n",
       "39    1\n",
       "37    1\n",
       "36    1\n",
       "50    1\n",
       "Name: count, dtype: int64"
      ]
     },
     "execution_count": 18,
     "metadata": {},
     "output_type": "execute_result"
    }
   ],
   "source": [
    "df_195['Age'].value_counts()"
   ]
  },
  {
   "cell_type": "markdown",
   "id": "e74af3a4",
   "metadata": {
    "papermill": {
     "duration": 0.014065,
     "end_time": "2023-11-29T09:56:23.504464",
     "exception": false,
     "start_time": "2023-11-29T09:56:23.490399",
     "status": "completed"
    },
    "tags": []
   },
   "source": [
    "*Age can be different for every person and so the number of the unique value will increase.*\n",
    "\n",
    "*Age values can be segmented within a group, rather than age, age group will be limited as it will work as range*"
   ]
  },
  {
   "cell_type": "code",
   "execution_count": 19,
   "id": "6cb7eb39",
   "metadata": {
    "execution": {
     "iopub.execute_input": "2023-11-29T09:56:23.533455Z",
     "iopub.status.busy": "2023-11-29T09:56:23.533030Z",
     "iopub.status.idle": "2023-11-29T09:56:23.582052Z",
     "shell.execute_reply": "2023-11-29T09:56:23.580829Z"
    },
    "papermill": {
     "duration": 0.06711,
     "end_time": "2023-11-29T09:56:23.585000",
     "exception": false,
     "start_time": "2023-11-29T09:56:23.517890",
     "status": "completed"
    },
    "tags": []
   },
   "outputs": [],
   "source": [
    "#df['Age Group'] = \n",
    "\n",
    "for lab, row in df.iterrows():\n",
    "    if row['Age'] >= 18 and row['Age'] <30:\n",
    "        df.loc[lab,'Age Group'] = '18-29'\n",
    "    elif row['Age'] >= 30 and row['Age'] <40:\n",
    "        df.loc[lab, 'Age Group'] = '30-39'\n",
    "    elif row['Age'] >= 40 and row['Age'] <50:\n",
    "        df.loc[lab, 'Age Group'] = '40-49'\n",
    "    elif row['Age'] >= 50 and row['Age'] <=60:\n",
    "        df.loc[lab, 'Age Group'] = '50-60'\n",
    "    else:\n",
    "        df.loc[lab,'Age Group'] = 'Under or Over Aged'"
   ]
  },
  {
   "cell_type": "code",
   "execution_count": 20,
   "id": "8f33d70d",
   "metadata": {
    "execution": {
     "iopub.execute_input": "2023-11-29T09:56:23.615894Z",
     "iopub.status.busy": "2023-11-29T09:56:23.614967Z",
     "iopub.status.idle": "2023-11-29T09:56:23.633662Z",
     "shell.execute_reply": "2023-11-29T09:56:23.632395Z"
    },
    "papermill": {
     "duration": 0.037302,
     "end_time": "2023-11-29T09:56:23.636238",
     "exception": false,
     "start_time": "2023-11-29T09:56:23.598936",
     "status": "completed"
    },
    "tags": []
   },
   "outputs": [
    {
     "data": {
      "text/html": [
       "<div>\n",
       "<style scoped>\n",
       "    .dataframe tbody tr th:only-of-type {\n",
       "        vertical-align: middle;\n",
       "    }\n",
       "\n",
       "    .dataframe tbody tr th {\n",
       "        vertical-align: top;\n",
       "    }\n",
       "\n",
       "    .dataframe thead th {\n",
       "        text-align: right;\n",
       "    }\n",
       "</style>\n",
       "<table border=\"1\" class=\"dataframe\">\n",
       "  <thead>\n",
       "    <tr style=\"text-align: right;\">\n",
       "      <th></th>\n",
       "      <th>Product</th>\n",
       "      <th>Age</th>\n",
       "      <th>Gender</th>\n",
       "      <th>Education</th>\n",
       "      <th>MaritalStatus</th>\n",
       "      <th>Usage</th>\n",
       "      <th>Fitness</th>\n",
       "      <th>Income</th>\n",
       "      <th>Miles</th>\n",
       "      <th>Age Group</th>\n",
       "    </tr>\n",
       "  </thead>\n",
       "  <tbody>\n",
       "    <tr>\n",
       "      <th>0</th>\n",
       "      <td>TM195</td>\n",
       "      <td>18</td>\n",
       "      <td>Male</td>\n",
       "      <td>14</td>\n",
       "      <td>Single</td>\n",
       "      <td>3</td>\n",
       "      <td>4</td>\n",
       "      <td>29562</td>\n",
       "      <td>112</td>\n",
       "      <td>18-29</td>\n",
       "    </tr>\n",
       "    <tr>\n",
       "      <th>1</th>\n",
       "      <td>TM195</td>\n",
       "      <td>19</td>\n",
       "      <td>Male</td>\n",
       "      <td>15</td>\n",
       "      <td>Single</td>\n",
       "      <td>2</td>\n",
       "      <td>3</td>\n",
       "      <td>31836</td>\n",
       "      <td>75</td>\n",
       "      <td>18-29</td>\n",
       "    </tr>\n",
       "    <tr>\n",
       "      <th>2</th>\n",
       "      <td>TM195</td>\n",
       "      <td>19</td>\n",
       "      <td>Female</td>\n",
       "      <td>14</td>\n",
       "      <td>Partnered</td>\n",
       "      <td>4</td>\n",
       "      <td>3</td>\n",
       "      <td>30699</td>\n",
       "      <td>66</td>\n",
       "      <td>18-29</td>\n",
       "    </tr>\n",
       "    <tr>\n",
       "      <th>3</th>\n",
       "      <td>TM195</td>\n",
       "      <td>19</td>\n",
       "      <td>Male</td>\n",
       "      <td>12</td>\n",
       "      <td>Single</td>\n",
       "      <td>3</td>\n",
       "      <td>3</td>\n",
       "      <td>32973</td>\n",
       "      <td>85</td>\n",
       "      <td>18-29</td>\n",
       "    </tr>\n",
       "    <tr>\n",
       "      <th>4</th>\n",
       "      <td>TM195</td>\n",
       "      <td>20</td>\n",
       "      <td>Male</td>\n",
       "      <td>13</td>\n",
       "      <td>Partnered</td>\n",
       "      <td>4</td>\n",
       "      <td>2</td>\n",
       "      <td>35247</td>\n",
       "      <td>47</td>\n",
       "      <td>18-29</td>\n",
       "    </tr>\n",
       "  </tbody>\n",
       "</table>\n",
       "</div>"
      ],
      "text/plain": [
       "  Product  Age  Gender  Education MaritalStatus  Usage  Fitness  Income  \\\n",
       "0   TM195   18    Male         14        Single      3        4   29562   \n",
       "1   TM195   19    Male         15        Single      2        3   31836   \n",
       "2   TM195   19  Female         14     Partnered      4        3   30699   \n",
       "3   TM195   19    Male         12        Single      3        3   32973   \n",
       "4   TM195   20    Male         13     Partnered      4        2   35247   \n",
       "\n",
       "   Miles Age Group  \n",
       "0    112     18-29  \n",
       "1     75     18-29  \n",
       "2     66     18-29  \n",
       "3     85     18-29  \n",
       "4     47     18-29  "
      ]
     },
     "execution_count": 20,
     "metadata": {},
     "output_type": "execute_result"
    }
   ],
   "source": [
    "df.head()"
   ]
  },
  {
   "cell_type": "code",
   "execution_count": 21,
   "id": "f861d849",
   "metadata": {
    "execution": {
     "iopub.execute_input": "2023-11-29T09:56:23.666423Z",
     "iopub.status.busy": "2023-11-29T09:56:23.665974Z",
     "iopub.status.idle": "2023-11-29T09:56:23.682949Z",
     "shell.execute_reply": "2023-11-29T09:56:23.681703Z"
    },
    "papermill": {
     "duration": 0.035506,
     "end_time": "2023-11-29T09:56:23.685806",
     "exception": false,
     "start_time": "2023-11-29T09:56:23.650300",
     "status": "completed"
    },
    "tags": []
   },
   "outputs": [
    {
     "data": {
      "text/html": [
       "<div>\n",
       "<style scoped>\n",
       "    .dataframe tbody tr th:only-of-type {\n",
       "        vertical-align: middle;\n",
       "    }\n",
       "\n",
       "    .dataframe tbody tr th {\n",
       "        vertical-align: top;\n",
       "    }\n",
       "\n",
       "    .dataframe thead th {\n",
       "        text-align: right;\n",
       "    }\n",
       "</style>\n",
       "<table border=\"1\" class=\"dataframe\">\n",
       "  <thead>\n",
       "    <tr style=\"text-align: right;\">\n",
       "      <th></th>\n",
       "      <th>Product</th>\n",
       "      <th>Age</th>\n",
       "      <th>Gender</th>\n",
       "      <th>Education</th>\n",
       "      <th>MaritalStatus</th>\n",
       "      <th>Usage</th>\n",
       "      <th>Fitness</th>\n",
       "      <th>Income</th>\n",
       "      <th>Miles</th>\n",
       "      <th>Age Group</th>\n",
       "    </tr>\n",
       "  </thead>\n",
       "  <tbody>\n",
       "    <tr>\n",
       "      <th>0</th>\n",
       "      <td>TM195</td>\n",
       "      <td>18</td>\n",
       "      <td>Male</td>\n",
       "      <td>14</td>\n",
       "      <td>Single</td>\n",
       "      <td>3</td>\n",
       "      <td>4</td>\n",
       "      <td>29562</td>\n",
       "      <td>112</td>\n",
       "      <td>18-29</td>\n",
       "    </tr>\n",
       "    <tr>\n",
       "      <th>1</th>\n",
       "      <td>TM195</td>\n",
       "      <td>19</td>\n",
       "      <td>Male</td>\n",
       "      <td>15</td>\n",
       "      <td>Single</td>\n",
       "      <td>2</td>\n",
       "      <td>3</td>\n",
       "      <td>31836</td>\n",
       "      <td>75</td>\n",
       "      <td>18-29</td>\n",
       "    </tr>\n",
       "    <tr>\n",
       "      <th>2</th>\n",
       "      <td>TM195</td>\n",
       "      <td>19</td>\n",
       "      <td>Female</td>\n",
       "      <td>14</td>\n",
       "      <td>Partnered</td>\n",
       "      <td>4</td>\n",
       "      <td>3</td>\n",
       "      <td>30699</td>\n",
       "      <td>66</td>\n",
       "      <td>18-29</td>\n",
       "    </tr>\n",
       "    <tr>\n",
       "      <th>3</th>\n",
       "      <td>TM195</td>\n",
       "      <td>19</td>\n",
       "      <td>Male</td>\n",
       "      <td>12</td>\n",
       "      <td>Single</td>\n",
       "      <td>3</td>\n",
       "      <td>3</td>\n",
       "      <td>32973</td>\n",
       "      <td>85</td>\n",
       "      <td>18-29</td>\n",
       "    </tr>\n",
       "    <tr>\n",
       "      <th>4</th>\n",
       "      <td>TM195</td>\n",
       "      <td>20</td>\n",
       "      <td>Male</td>\n",
       "      <td>13</td>\n",
       "      <td>Partnered</td>\n",
       "      <td>4</td>\n",
       "      <td>2</td>\n",
       "      <td>35247</td>\n",
       "      <td>47</td>\n",
       "      <td>18-29</td>\n",
       "    </tr>\n",
       "  </tbody>\n",
       "</table>\n",
       "</div>"
      ],
      "text/plain": [
       "  Product  Age  Gender  Education MaritalStatus  Usage  Fitness  Income  \\\n",
       "0   TM195   18    Male         14        Single      3        4   29562   \n",
       "1   TM195   19    Male         15        Single      2        3   31836   \n",
       "2   TM195   19  Female         14     Partnered      4        3   30699   \n",
       "3   TM195   19    Male         12        Single      3        3   32973   \n",
       "4   TM195   20    Male         13     Partnered      4        2   35247   \n",
       "\n",
       "   Miles Age Group  \n",
       "0    112     18-29  \n",
       "1     75     18-29  \n",
       "2     66     18-29  \n",
       "3     85     18-29  \n",
       "4     47     18-29  "
      ]
     },
     "execution_count": 21,
     "metadata": {},
     "output_type": "execute_result"
    }
   ],
   "source": [
    "# sub setting for the TM195 products after adding Age Group\n",
    "df_195 = df[df['Product']=='TM195']\n",
    "df_195.head()"
   ]
  },
  {
   "cell_type": "code",
   "execution_count": 22,
   "id": "59ff2fd1",
   "metadata": {
    "execution": {
     "iopub.execute_input": "2023-11-29T09:56:23.716675Z",
     "iopub.status.busy": "2023-11-29T09:56:23.716201Z",
     "iopub.status.idle": "2023-11-29T09:56:23.725818Z",
     "shell.execute_reply": "2023-11-29T09:56:23.724563Z"
    },
    "papermill": {
     "duration": 0.028208,
     "end_time": "2023-11-29T09:56:23.728270",
     "exception": false,
     "start_time": "2023-11-29T09:56:23.700062",
     "status": "completed"
    },
    "tags": []
   },
   "outputs": [
    {
     "data": {
      "text/plain": [
       "Age Group\n",
       "18-29    113\n",
       "30-39     50\n",
       "40-49     16\n",
       "50-60      1\n",
       "Name: count, dtype: int64"
      ]
     },
     "execution_count": 22,
     "metadata": {},
     "output_type": "execute_result"
    }
   ],
   "source": [
    "df['Age Group'].value_counts()"
   ]
  },
  {
   "cell_type": "code",
   "execution_count": 23,
   "id": "c5f92e7a",
   "metadata": {
    "execution": {
     "iopub.execute_input": "2023-11-29T09:56:23.759149Z",
     "iopub.status.busy": "2023-11-29T09:56:23.758767Z",
     "iopub.status.idle": "2023-11-29T09:56:23.767126Z",
     "shell.execute_reply": "2023-11-29T09:56:23.766008Z"
    },
    "papermill": {
     "duration": 0.026575,
     "end_time": "2023-11-29T09:56:23.769528",
     "exception": false,
     "start_time": "2023-11-29T09:56:23.742953",
     "status": "completed"
    },
    "tags": []
   },
   "outputs": [
    {
     "data": {
      "text/plain": [
       "Age Group\n",
       "18-29    53\n",
       "30-39    20\n",
       "40-49     6\n",
       "50-60     1\n",
       "Name: count, dtype: int64"
      ]
     },
     "execution_count": 23,
     "metadata": {},
     "output_type": "execute_result"
    }
   ],
   "source": [
    "df_195['Age Group'].value_counts()"
   ]
  },
  {
   "cell_type": "code",
   "execution_count": 24,
   "id": "abc4784c",
   "metadata": {
    "execution": {
     "iopub.execute_input": "2023-11-29T09:56:23.866975Z",
     "iopub.status.busy": "2023-11-29T09:56:23.866344Z",
     "iopub.status.idle": "2023-11-29T09:56:24.282878Z",
     "shell.execute_reply": "2023-11-29T09:56:24.281698Z"
    },
    "papermill": {
     "duration": 0.501664,
     "end_time": "2023-11-29T09:56:24.285648",
     "exception": false,
     "start_time": "2023-11-29T09:56:23.783984",
     "status": "completed"
    },
    "tags": []
   },
   "outputs": [
    {
     "data": {
      "text/plain": [
       "Text(0.5, 1.0, 'Age Wise Count of Users')"
      ]
     },
     "execution_count": 24,
     "metadata": {},
     "output_type": "execute_result"
    },
    {
     "data": {
      "image/png": "[encoded data removed]",
      "text/plain": [
       "<Figure size 500x500 with 1 Axes>"
      ]
     },
     "metadata": {},
     "output_type": "display_data"
    }
   ],
   "source": [
    "sns.catplot(data=df_195\n",
    "            ,x='Age Group'\n",
    "            ,kind='count')\n",
    "\n",
    "plt.title('Age Wise Count of Users')"
   ]
  },
  {
   "cell_type": "code",
   "execution_count": 25,
   "id": "1fd498a1",
   "metadata": {
    "execution": {
     "iopub.execute_input": "2023-11-29T09:56:24.320169Z",
     "iopub.status.busy": "2023-11-29T09:56:24.319758Z",
     "iopub.status.idle": "2023-11-29T09:56:24.767172Z",
     "shell.execute_reply": "2023-11-29T09:56:24.765941Z"
    },
    "papermill": {
     "duration": 0.469364,
     "end_time": "2023-11-29T09:56:24.770661",
     "exception": false,
     "start_time": "2023-11-29T09:56:24.301297",
     "status": "completed"
    },
    "tags": []
   },
   "outputs": [
    {
     "data": {
      "text/plain": [
       "<Axes: xlabel='Age', ylabel='Income'>"
      ]
     },
     "execution_count": 25,
     "metadata": {},
     "output_type": "execute_result"
    },
    {
     "data": {
      "image/png": "[encoded data removed]",
      "text/plain": [
       "<Figure size 640x480 with 1 Axes>"
      ]
     },
     "metadata": {},
     "output_type": "display_data"
    }
   ],
   "source": [
    "sns.regplot(x='Age',\n",
    "           y='Income',\n",
    "           data=df_195)\n",
    "          # hue='Age Group')"
   ]
  },
  {
   "cell_type": "markdown",
   "id": "185d7b8d",
   "metadata": {
    "papermill": {
     "duration": 0.015811,
     "end_time": "2023-11-29T09:56:24.803014",
     "exception": false,
     "start_time": "2023-11-29T09:56:24.787203",
     "status": "completed"
    },
    "tags": []
   },
   "source": [
    "*Age and Income is in a linear relation*"
   ]
  },
  {
   "cell_type": "code",
   "execution_count": 26,
   "id": "5753fd4d",
   "metadata": {
    "execution": {
     "iopub.execute_input": "2023-11-29T09:56:24.837093Z",
     "iopub.status.busy": "2023-11-29T09:56:24.836584Z",
     "iopub.status.idle": "2023-11-29T09:56:24.845805Z",
     "shell.execute_reply": "2023-11-29T09:56:24.844599Z"
    },
    "papermill": {
     "duration": 0.028953,
     "end_time": "2023-11-29T09:56:24.848214",
     "exception": false,
     "start_time": "2023-11-29T09:56:24.819261",
     "status": "completed"
    },
    "tags": []
   },
   "outputs": [
    {
     "data": {
      "text/plain": [
       "0.7518313702099026"
      ]
     },
     "execution_count": 26,
     "metadata": {},
     "output_type": "execute_result"
    }
   ],
   "source": [
    "df_195['Age'].corr(df_195['Income'])"
   ]
  },
  {
   "cell_type": "markdown",
   "id": "eb0cd131",
   "metadata": {
    "papermill": {
     "duration": 0.017326,
     "end_time": "2023-11-29T09:56:24.881970",
     "exception": false,
     "start_time": "2023-11-29T09:56:24.864644",
     "status": "completed"
    },
    "tags": []
   },
   "source": [
    "Age and Income having a correlation value of 0.75 which means they are in positive correlation and they are highly correlated  "
   ]
  },
  {
   "cell_type": "code",
   "execution_count": 27,
   "id": "a20e6821",
   "metadata": {
    "execution": {
     "iopub.execute_input": "2023-11-29T09:56:24.916970Z",
     "iopub.status.busy": "2023-11-29T09:56:24.916543Z",
     "iopub.status.idle": "2023-11-29T09:56:24.925121Z",
     "shell.execute_reply": "2023-11-29T09:56:24.924260Z"
    },
    "papermill": {
     "duration": 0.028798,
     "end_time": "2023-11-29T09:56:24.927250",
     "exception": false,
     "start_time": "2023-11-29T09:56:24.898452",
     "status": "completed"
    },
    "tags": []
   },
   "outputs": [
    {
     "data": {
      "text/plain": [
       "Education\n",
       "16    85\n",
       "14    55\n",
       "18    23\n",
       "15     5\n",
       "13     5\n",
       "12     3\n",
       "21     3\n",
       "20     1\n",
       "Name: count, dtype: int64"
      ]
     },
     "execution_count": 27,
     "metadata": {},
     "output_type": "execute_result"
    }
   ],
   "source": [
    "df.Education.value_counts()"
   ]
  }
 ],
 "metadata": {
  "kaggle": {
   "accelerator": "none",
   "dataSources": [
    {
     "datasetId": 2602526,
     "sourceId": 4444140,
     "sourceType": "datasetVersion"
    }
   ],
   "dockerImageVersionId": 30587,
   "isGpuEnabled": false,
   "isInternetEnabled": true,
   "language": "python",
   "sourceType": "notebook"
  },
  "kernelspec": {
   "display_name": "Python 3",
   "language": "python",
   "name": "python3"
  },
  "language_info": {
   "codemirror_mode": {
    "name": "ipython",
    "version": 3
   },
   "file_extension": ".py",
   "mimetype": "text/x-python",
   "name": "python",
   "nbconvert_exporter": "python",
   "pygments_lexer": "ipython3",
   "version": "3.10.12"
  },
  "papermill": {
   "default_parameters": {},
   "duration": 9.303442,
   "end_time": "2023-11-29T09:56:25.566495",
   "environment_variables": {},
   "exception": null,
   "input_path": "__notebook__.ipynb",
   "output_path": "__notebook__.ipynb",
   "parameters": {},
   "start_time": "2023-11-29T09:56:16.263053",
   "version": "2.4.0"
  }
 },
 "nbformat": 4,
 "nbformat_minor": 5
}
